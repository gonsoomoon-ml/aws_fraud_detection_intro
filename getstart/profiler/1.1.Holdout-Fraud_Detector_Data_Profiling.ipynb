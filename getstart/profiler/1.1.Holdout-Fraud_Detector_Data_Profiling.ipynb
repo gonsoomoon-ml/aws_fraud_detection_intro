{
 "cells": [
  {
   "cell_type": "markdown",
   "metadata": {},
   "source": [
    "# Amazon Fraud Detector - Data Profiler Notebook \n",
    "\n",
    "\n",
    "### Dataset Guidance\n",
    "-------\n",
    "\n",
    "AWS Fraud Detector's Online Fraud Insights(OFI) model supports a flexible schema, enabling you to train an OFI model to your specific data and business need. This notebook was developed to help you profile your data and identify potenital issues before you train an OFI model. The following summarizes the minimimum CSV File requirements:\n",
    "\n",
    "* The files are in CSV UTF-8 (comma delimited) format (*.csv).\n",
    "* The file should contain at least 10k rows and the following __four__ required fields:  \n",
    "\n",
    "    * Event timestamp \n",
    "    * IP address \n",
    "    * Email address\n",
    "    * Fraud label \n",
    "    \n",
    "* The maximum file size is 10 gigabytes (GB).  \n",
    "\n",
    "* The following dates and datetime formats are supported:\n",
    "    * Dates: YYYY-MM-DD (eg. 2019-03-21)\n",
    "    * Datetime: YYYY-MM-DD HH:mm:ss (eg. 2019-03-21 12:01:32) \n",
    "    * ISO 8601 Datetime: YYYY-MM-DDTHH:mm:ss+/-HH:mm (eg. 2019-03-21T20:58:41+07:00)\n",
    "\n",
    "* The decimal precision is up to four decimal places.\n",
    "* Numeric data should not contain commas and currency symbols. \n",
    "* Columns with values that could contain commas, such as address or custom text should be enclosed in double quotes. \n",
    "\n",
    "\n",
    "\n",
    "### Getting Started with Data \n",
    "-------\n",
    "The following general guidance is provided to get the most out of your AWS Fraud Detector Online Fraud Insights Model. \n",
    "\n",
    "* Gathering Data -  The OFI model requires a minimum of 10k records. We recommend that a minimum of 6 weeks of historic data is collected, though 3 - 6 months of data is preferable.   As part of the process the OFI model partitions your data based on the Event Timestamp such that performance metrics are calculated on the out of sample (latest) data, thus the format of the event timestamp is important. \n",
    "\n",
    "  \n",
    "* Data & Label Maturity: As part of the data gathering process we want to insure that records have had sufficient time to “mature”, i.e. that enough time has passed to insure “non-fraud\" and  “fraud” records have been correctly identified. It often takes 30 - 45 days (or more) to correctly identify fraudulent events, because of this it is important to insure that the latest records are at least 30 days old or older.  \n",
    "\n",
    "  \n",
    "* Sampling: The OFI training process will sample and partition historic based on event timestamp. There is no need to manually sample the data and doing so may negatively influence your model’s results.  \n",
    "\n",
    "  \n",
    "* Fraud Labels:  The OFI model requires that a minimum of 500 observations are identified and labeled as “fraud”. As noted above, fraud label maturity is important. Insure that extracted data has sufficiently matured to insure that fraudulent events have been reliably found. \n",
    "  \n",
    "  \n",
    "* Custom Fields: the OFI model requires 4 fields: event timestamp, IP address, email address and fraud label. The more custom fields you provide the better the OFI model can differentiate between fraud and not fraud.  \n",
    "  \n",
    "  \n",
    "* Nulls and Missing Values: OFI model handles null and missing values, however the percentage of nulls in key fields should be limited. Especially timestamp and fraud label columns should not contain any missing values.   \n",
    "\n",
    "  \n",
    "If you would like to know more, please check out the [Fraud Detector's Documentation](https://docs.aws.amazon.com/frauddetector/). \n"
   ]
  },
  {
   "cell_type": "code",
   "execution_count": 14,
   "metadata": {},
   "outputs": [
    {
     "data": {
      "text/html": [
       "<style>.container { width:90% }</style>"
      ],
      "text/plain": [
       "<IPython.core.display.HTML object>"
      ]
     },
     "metadata": {},
     "output_type": "display_data"
    }
   ],
   "source": [
    "from IPython.core.display import display, HTML\n",
    "from IPython.display import clear_output\n",
    "display(HTML(\"<style>.container { width:90% }</style>\"))\n",
    "from IPython.display import IFrame\n",
    "# ------------------------------------------------------------------\n",
    "import numpy as np\n",
    "import pandas as pd\n",
    "pd.set_option('display.max_rows', 500)\n",
    "pd.set_option('display.max_columns', 500)\n",
    "pd.set_option('display.width', 1000)\n",
    "pd.options.display.float_format = '{:.4f}'.format\n",
    "\n",
    "# -- AWS stuff -- \n",
    "import boto3\n"
   ]
  },
  {
   "cell_type": "markdown",
   "metadata": {},
   "source": [
    "### Amazon Fraud Detector Profiling \n",
    "-----\n",
    "\n",
    "from github download and copy the afd_profile.py python program and template directory to your notebook  \n",
    "\n",
    "<div class=\"alert alert-info\"> <strong> afd_profile.py </strong>\n",
    "\n",
    "- afd_profile.py - is the python package which will generate your profile report. \n",
    "- /templates - directory contains the supporting profile templates \n",
    "\n",
    "\n",
    "</div>\n"
   ]
  },
  {
   "cell_type": "code",
   "execution_count": 15,
   "metadata": {},
   "outputs": [],
   "source": [
    "# -- get this package from github -- \n",
    "import afd_profile"
   ]
  },
  {
   "cell_type": "markdown",
   "metadata": {},
   "source": [
    "### Intialize your S3 client \n",
    "-----\n",
    "https://boto3.amazonaws.com/v1/documentation/api/latest/reference/services/s3.html"
   ]
  },
  {
   "cell_type": "code",
   "execution_count": 16,
   "metadata": {},
   "outputs": [],
   "source": [
    "client = boto3.client('s3')"
   ]
  },
  {
   "cell_type": "markdown",
   "metadata": {},
   "source": [
    "### File & Field Mapping\n",
    "-----\n",
    "Simply map your file and field names to the required config values. \n",
    "\n",
    "<div class=\"alert alert-info\"> <strong> Map the Required fields </strong>\n",
    "\n",
    "- input_file: this is your CSV file in your s3 bucket \n",
    "\n",
    "<b> required_features </b> are the minimally required freatures to run Amazon Fraud Detector \n",
    "- EVENT_TIMESTAMP: map this to your file's Date or Datetime field.    \n",
    "- IP_ADDRESS: map this to your file's IP address field.   \n",
    "- EMAIL_ADDRESS: map this to your file's email address field.  \n",
    "- FRAUD_LABEL: map this to your file's fraud label field.  \n",
    "    **note: the profiler will identify the \"rare\" case and assume that it is fraud**\n",
    "    \n",
    "</div>\n"
   ]
  },
  {
   "cell_type": "code",
   "execution_count": 17,
   "metadata": {},
   "outputs": [
    {
     "name": "stdout",
     "output_type": "stream",
     "text": [
      "download: s3://sagemaker-us-east-2-057716757052/fraud/console/registration_data_20K_minimum.csv to ./registration_data_20K_minimum.csv\n"
     ]
    }
   ],
   "source": [
    "input_file = 's3://sagemaker-us-east-2-057716757052/fraud/console/registration_data_20K_minimum.csv'\n",
    "! aws s3 cp {input_file} ."
   ]
  },
  {
   "cell_type": "code",
   "execution_count": 18,
   "metadata": {},
   "outputs": [],
   "source": [
    "local_input_file = 'registration_data_20K_minimum.csv'\n",
    "%store -r train_data_file_name\n",
    "%store -r test_data_file_name\n",
    "\n",
    "## 기존 노트북에서 생성한 데이터 사용\n",
    "train_data_file_name = '../' + train_data_file_name\n",
    "test_data_file_name = '../' +  test_data_file_name"
   ]
  },
  {
   "cell_type": "code",
   "execution_count": 19,
   "metadata": {},
   "outputs": [
    {
     "data": {
      "text/html": [
       "<div>\n",
       "<style scoped>\n",
       "    .dataframe tbody tr th:only-of-type {\n",
       "        vertical-align: middle;\n",
       "    }\n",
       "\n",
       "    .dataframe tbody tr th {\n",
       "        vertical-align: top;\n",
       "    }\n",
       "\n",
       "    .dataframe thead th {\n",
       "        text-align: right;\n",
       "    }\n",
       "</style>\n",
       "<table border=\"1\" class=\"dataframe\">\n",
       "  <thead>\n",
       "    <tr style=\"text-align: right;\">\n",
       "      <th></th>\n",
       "      <th>ip_address</th>\n",
       "      <th>email_address</th>\n",
       "      <th>EVENT_TIMESTAMP</th>\n",
       "      <th>EVENT_LABEL</th>\n",
       "    </tr>\n",
       "  </thead>\n",
       "  <tbody>\n",
       "    <tr>\n",
       "      <th>0</th>\n",
       "      <td>46.41.252.160</td>\n",
       "      <td>fake_acostasusan@example.org</td>\n",
       "      <td>10/8/2019 20:44</td>\n",
       "      <td>legit</td>\n",
       "    </tr>\n",
       "    <tr>\n",
       "      <th>1</th>\n",
       "      <td>152.58.247.12</td>\n",
       "      <td>fake_christopheryoung@example.com</td>\n",
       "      <td>5/23/2020 19:44</td>\n",
       "      <td>legit</td>\n",
       "    </tr>\n",
       "    <tr>\n",
       "      <th>2</th>\n",
       "      <td>12.252.206.222</td>\n",
       "      <td>fake_jeffrey09@example.org</td>\n",
       "      <td>4/24/2020 18:26</td>\n",
       "      <td>legit</td>\n",
       "    </tr>\n",
       "    <tr>\n",
       "      <th>3</th>\n",
       "      <td>170.81.164.240</td>\n",
       "      <td>fake_ncastro@example.org</td>\n",
       "      <td>4/22/2020 19:07</td>\n",
       "      <td>legit</td>\n",
       "    </tr>\n",
       "    <tr>\n",
       "      <th>4</th>\n",
       "      <td>165.182.68.217</td>\n",
       "      <td>fake_charles99@example.org</td>\n",
       "      <td>12/31/2019 17:08</td>\n",
       "      <td>legit</td>\n",
       "    </tr>\n",
       "  </tbody>\n",
       "</table>\n",
       "</div>"
      ],
      "text/plain": [
       "       ip_address                      email_address   EVENT_TIMESTAMP EVENT_LABEL\n",
       "0   46.41.252.160       fake_acostasusan@example.org   10/8/2019 20:44       legit\n",
       "1   152.58.247.12  fake_christopheryoung@example.com   5/23/2020 19:44       legit\n",
       "2  12.252.206.222         fake_jeffrey09@example.org   4/24/2020 18:26       legit\n",
       "3  170.81.164.240           fake_ncastro@example.org   4/22/2020 19:07       legit\n",
       "4  165.182.68.217         fake_charles99@example.org  12/31/2019 17:08       legit"
      ]
     },
     "execution_count": 19,
     "metadata": {},
     "output_type": "execute_result"
    }
   ],
   "source": [
    "import pandas as pd\n",
    "df = pd.read_csv(local_input_file)\n",
    "df.head()"
   ]
  },
  {
   "cell_type": "code",
   "execution_count": 21,
   "metadata": {},
   "outputs": [],
   "source": [
    "# -- update your configuration -- \n",
    "config = {  \n",
    "    \"input_file\"        : local_input_file,\n",
    "    \"required_features\" : {\n",
    "        \"EVENT_TIMESTAMP\" : \"EVENT_TIMESTAMP\",\n",
    "        \"EVENT_LABEL\"     : \"EVENT_LABEL\",\n",
    "        \"IP_ADDRESS\"      : \"ip_address\",\n",
    "        \"EMAIL_ADDRESS\"   : \"email_address\"\n",
    "    }\n",
    "}\n"
   ]
  },
  {
   "cell_type": "markdown",
   "metadata": {},
   "source": [
    "#### Run Profiler\n",
    "-----\n",
    "The profiler will read your file and produce an HTML file as a result which will be displayed inline within this notebook.  \n",
    "  \n",
    "Note: you can also open **report.html** in a separate browser tab. "
   ]
  },
  {
   "cell_type": "code",
   "execution_count": 22,
   "metadata": {},
   "outputs": [
    {
     "name": "stdout",
     "output_type": "stream",
     "text": [
      "0\n"
     ]
    }
   ],
   "source": [
    "# -- generate the report object --\n",
    "report = afd_profile.profile_report(config)"
   ]
  },
  {
   "cell_type": "code",
   "execution_count": 24,
   "metadata": {},
   "outputs": [
    {
     "data": {
      "text/html": [
       "\n",
       "        <iframe\n",
       "            width=\"1500\"\n",
       "            height=\"800\"\n",
       "            src=\"report_full.html\"\n",
       "            frameborder=\"0\"\n",
       "            allowfullscreen\n",
       "        ></iframe>\n",
       "        "
      ],
      "text/plain": [
       "<IPython.lib.display.IFrame at 0x7f95ce27fcc0>"
      ]
     },
     "execution_count": 24,
     "metadata": {},
     "output_type": "execute_result"
    }
   ],
   "source": [
    "with open(\"report_full.html\", \"w\") as file:\n",
    "    file.write(report)\n",
    "\n",
    "IFrame(src='report_full.html', width=1500, height=800)\n"
   ]
  },
  {
   "cell_type": "markdown",
   "metadata": {},
   "source": [
    "## 훈련 데이터 프러파일링"
   ]
  },
  {
   "cell_type": "code",
   "execution_count": 25,
   "metadata": {},
   "outputs": [
    {
     "name": "stdout",
     "output_type": "stream",
     "text": [
      "0\n"
     ]
    },
    {
     "data": {
      "text/html": [
       "\n",
       "        <iframe\n",
       "            width=\"1500\"\n",
       "            height=\"800\"\n",
       "            src=\"report_train.html\"\n",
       "            frameborder=\"0\"\n",
       "            allowfullscreen\n",
       "        ></iframe>\n",
       "        "
      ],
      "text/plain": [
       "<IPython.lib.display.IFrame at 0x7f95ce27fda0>"
      ]
     },
     "execution_count": 25,
     "metadata": {},
     "output_type": "execute_result"
    }
   ],
   "source": [
    "# -- update your configuration -- \n",
    "config = {  \n",
    "    \"input_file\"        : train_data_file_name,\n",
    "    \"required_features\" : {\n",
    "        \"EVENT_TIMESTAMP\" : \"EVENT_TIMESTAMP\",\n",
    "        \"EVENT_LABEL\"     : \"EVENT_LABEL\",\n",
    "        \"IP_ADDRESS\"      : \"ip_address\",\n",
    "        \"EMAIL_ADDRESS\"   : \"email_address\"\n",
    "    }\n",
    "}\n",
    "\n",
    "# -- generate the report object --\n",
    "report = afd_profile.profile_report(config)\n",
    "\n",
    "with open(\"report_train.html\", \"w\") as file:\n",
    "    file.write(report)\n",
    "\n",
    "IFrame(src='report_train.html', width=1500, height=800)\n",
    "\n"
   ]
  },
  {
   "cell_type": "markdown",
   "metadata": {},
   "source": [
    "## 테스트 데이터 프로파일링\n",
    "\n",
    "fraud 의 갯수가 500개 보다 작아서 에러 발생"
   ]
  },
  {
   "cell_type": "code",
   "execution_count": 26,
   "metadata": {},
   "outputs": [
    {
     "ename": "TypeError",
     "evalue": "must be str, not int",
     "output_type": "error",
     "traceback": [
      "\u001b[0;31m---------------------------------------------------------------------------\u001b[0m",
      "\u001b[0;31mTypeError\u001b[0m                                 Traceback (most recent call last)",
      "\u001b[0;32m<ipython-input-26-34339231e6fa>\u001b[0m in \u001b[0;36m<module>\u001b[0;34m\u001b[0m\n\u001b[1;32m     11\u001b[0m \u001b[0;34m\u001b[0m\u001b[0m\n\u001b[1;32m     12\u001b[0m \u001b[0;31m# -- generate the report object --\u001b[0m\u001b[0;34m\u001b[0m\u001b[0;34m\u001b[0m\u001b[0;34m\u001b[0m\u001b[0m\n\u001b[0;32m---> 13\u001b[0;31m \u001b[0mreport\u001b[0m \u001b[0;34m=\u001b[0m \u001b[0mafd_profile\u001b[0m\u001b[0;34m.\u001b[0m\u001b[0mprofile_report\u001b[0m\u001b[0;34m(\u001b[0m\u001b[0mconfig\u001b[0m\u001b[0;34m)\u001b[0m\u001b[0;34m\u001b[0m\u001b[0;34m\u001b[0m\u001b[0m\n\u001b[0m\u001b[1;32m     14\u001b[0m \u001b[0;34m\u001b[0m\u001b[0m\n\u001b[1;32m     15\u001b[0m \u001b[0;32mwith\u001b[0m \u001b[0mopen\u001b[0m\u001b[0;34m(\u001b[0m\u001b[0;34m\"report_test.html\"\u001b[0m\u001b[0;34m,\u001b[0m \u001b[0;34m\"w\"\u001b[0m\u001b[0;34m)\u001b[0m \u001b[0;32mas\u001b[0m \u001b[0mfile\u001b[0m\u001b[0;34m:\u001b[0m\u001b[0;34m\u001b[0m\u001b[0;34m\u001b[0m\u001b[0m\n",
      "\u001b[0;32m~/SageMaker/aws_fraud_detection_intro/getstart/profiler/afd_profile.py\u001b[0m in \u001b[0;36mprofile_report\u001b[0;34m(config)\u001b[0m\n\u001b[1;32m    466\u001b[0m     \u001b[0mdf\u001b[0m\u001b[0;34m,\u001b[0m \u001b[0moverview_stats\u001b[0m \u001b[0;34m=\u001b[0m \u001b[0mget_overview\u001b[0m\u001b[0;34m(\u001b[0m\u001b[0mconfig\u001b[0m\u001b[0;34m,\u001b[0m \u001b[0mdf\u001b[0m\u001b[0;34m)\u001b[0m\u001b[0;34m\u001b[0m\u001b[0;34m\u001b[0m\u001b[0m\n\u001b[1;32m    467\u001b[0m     \u001b[0mdf_stats\u001b[0m\u001b[0;34m,\u001b[0m \u001b[0mwarnings\u001b[0m \u001b[0;34m=\u001b[0m \u001b[0mget_stats\u001b[0m\u001b[0;34m(\u001b[0m\u001b[0mconfig\u001b[0m\u001b[0;34m,\u001b[0m \u001b[0mdf\u001b[0m\u001b[0;34m)\u001b[0m\u001b[0;34m\u001b[0m\u001b[0;34m\u001b[0m\u001b[0m\n\u001b[0;32m--> 468\u001b[0;31m     \u001b[0mlbl_stats\u001b[0m\u001b[0;34m,\u001b[0m \u001b[0mlbl_warnings\u001b[0m \u001b[0;34m=\u001b[0m \u001b[0mget_label\u001b[0m\u001b[0;34m(\u001b[0m\u001b[0mconfig\u001b[0m\u001b[0;34m,\u001b[0m \u001b[0mdf\u001b[0m\u001b[0;34m)\u001b[0m\u001b[0;34m\u001b[0m\u001b[0;34m\u001b[0m\u001b[0m\n\u001b[0m\u001b[1;32m    469\u001b[0m     \u001b[0mp_stats\u001b[0m\u001b[0;34m,\u001b[0m \u001b[0mp_warnings\u001b[0m \u001b[0;34m=\u001b[0m \u001b[0mget_partition\u001b[0m\u001b[0;34m(\u001b[0m\u001b[0mconfig\u001b[0m\u001b[0;34m,\u001b[0m \u001b[0mdf\u001b[0m\u001b[0;34m)\u001b[0m\u001b[0;34m\u001b[0m\u001b[0;34m\u001b[0m\u001b[0m\n\u001b[1;32m    470\u001b[0m     \u001b[0me_stats\u001b[0m\u001b[0;34m,\u001b[0m \u001b[0me_warnings\u001b[0m \u001b[0;34m=\u001b[0m \u001b[0mget_email\u001b[0m\u001b[0;34m(\u001b[0m\u001b[0mconfig\u001b[0m\u001b[0;34m,\u001b[0m \u001b[0mdf\u001b[0m\u001b[0;34m)\u001b[0m\u001b[0;34m\u001b[0m\u001b[0;34m\u001b[0m\u001b[0m\n",
      "\u001b[0;32m~/SageMaker/aws_fraud_detection_intro/getstart/profiler/afd_profile.py\u001b[0m in \u001b[0;36mget_label\u001b[0;34m(config, df)\u001b[0m\n\u001b[1;32m    155\u001b[0m     \"\"\"\n\u001b[1;32m    156\u001b[0m     \u001b[0;32mif\u001b[0m \u001b[0mlabel_dict\u001b[0m\u001b[0;34m[\u001b[0m\u001b[0;34m'fraud_count'\u001b[0m\u001b[0;34m]\u001b[0m \u001b[0;34m<=\u001b[0m \u001b[0;36m500\u001b[0m\u001b[0;34m:\u001b[0m\u001b[0;34m\u001b[0m\u001b[0;34m\u001b[0m\u001b[0m\n\u001b[0;32m--> 157\u001b[0;31m         \u001b[0mmessage\u001b[0m\u001b[0;34m[\u001b[0m\u001b[0;34m'fraud_count'\u001b[0m\u001b[0;34m]\u001b[0m \u001b[0;34m=\u001b[0m \u001b[0;34m\"Fraud count \"\u001b[0m \u001b[0;34m+\u001b[0m \u001b[0mlabel_dict\u001b[0m\u001b[0;34m[\u001b[0m\u001b[0;34m'fraud_count'\u001b[0m\u001b[0;34m]\u001b[0m \u001b[0;34m+\u001b[0m \u001b[0;34m\" is less than 500\\n\"\u001b[0m\u001b[0;34m\u001b[0m\u001b[0;34m\u001b[0m\u001b[0m\n\u001b[0m\u001b[1;32m    158\u001b[0m \u001b[0;34m\u001b[0m\u001b[0m\n\u001b[1;32m    159\u001b[0m     \u001b[0;32mif\u001b[0m \u001b[0mdf\u001b[0m\u001b[0;34m[\u001b[0m\u001b[0mlabel\u001b[0m\u001b[0;34m]\u001b[0m\u001b[0;34m.\u001b[0m\u001b[0misnull\u001b[0m\u001b[0;34m(\u001b[0m\u001b[0;34m)\u001b[0m\u001b[0;34m.\u001b[0m\u001b[0msum\u001b[0m\u001b[0;34m(\u001b[0m\u001b[0maxis\u001b[0m \u001b[0;34m=\u001b[0m \u001b[0;36m0\u001b[0m\u001b[0;34m)\u001b[0m\u001b[0;34m/\u001b[0m\u001b[0mrowcnt\u001b[0m \u001b[0;34m>=\u001b[0m \u001b[0;36m0.01\u001b[0m\u001b[0;34m:\u001b[0m\u001b[0;34m\u001b[0m\u001b[0;34m\u001b[0m\u001b[0m\n",
      "\u001b[0;31mTypeError\u001b[0m: must be str, not int"
     ]
    }
   ],
   "source": [
    "# -- update your configuration -- \n",
    "config = {  \n",
    "    \"input_file\"        : test_data_file_name,\n",
    "    \"required_features\" : {\n",
    "        \"EVENT_TIMESTAMP\" : \"EVENT_TIMESTAMP\",\n",
    "        \"EVENT_LABEL\"     : \"EVENT_LABEL\",\n",
    "        \"IP_ADDRESS\"      : \"ip_address\",\n",
    "        \"EMAIL_ADDRESS\"   : \"email_address\"\n",
    "    }\n",
    "}\n",
    "\n",
    "# -- generate the report object --\n",
    "report = afd_profile.profile_report(config)\n",
    "\n",
    "with open(\"report_test.html\", \"w\") as file:\n",
    "    file.write(report)\n",
    "\n",
    "IFrame(src='report_test.html', width=1500, height=800)\n",
    "\n",
    "\n"
   ]
  },
  {
   "cell_type": "code",
   "execution_count": null,
   "metadata": {},
   "outputs": [],
   "source": []
  }
 ],
 "metadata": {
  "kernelspec": {
   "display_name": "conda_python3",
   "language": "python",
   "name": "conda_python3"
  },
  "language_info": {
   "codemirror_mode": {
    "name": "ipython",
    "version": 3
   },
   "file_extension": ".py",
   "mimetype": "text/x-python",
   "name": "python",
   "nbconvert_exporter": "python",
   "pygments_lexer": "ipython3",
   "version": "3.6.10"
  }
 },
 "nbformat": 4,
 "nbformat_minor": 4
}
