{
 "cells": [
  {
   "cell_type": "markdown",
   "metadata": {},
   "source": [
    "# Amazon Fraud Detector - Data Profiler Notebook \n",
    "\n",
    "\n",
    "### Dataset Guidance\n",
    "-------\n",
    "\n",
    "AWS Fraud Detector's Online Fraud Insights(OFI) model supports a flexible schema, enabling you to train an OFI model to your specific data and business need. This notebook was developed to help you profile your data and identify potenital issues before you train an OFI model. The following summarizes the minimimum CSV File requirements:\n",
    "\n",
    "* The files are in CSV UTF-8 (comma delimited) format (*.csv).\n",
    "* The file should contain at least 10k rows and the following __four__ required fields:  \n",
    "\n",
    "    * Event timestamp \n",
    "    * IP address \n",
    "    * Email address\n",
    "    * Fraud label \n",
    "    \n",
    "* The maximum file size is 10 gigabytes (GB).  \n",
    "\n",
    "* The following dates and datetime formats are supported:\n",
    "    * Dates: YYYY-MM-DD (eg. 2019-03-21)\n",
    "    * Datetime: YYYY-MM-DD HH:mm:ss (eg. 2019-03-21 12:01:32) \n",
    "    * ISO 8601 Datetime: YYYY-MM-DDTHH:mm:ss+/-HH:mm (eg. 2019-03-21T20:58:41+07:00)\n",
    "\n",
    "* The decimal precision is up to four decimal places.\n",
    "* Numeric data should not contain commas and currency symbols. \n",
    "* Columns with values that could contain commas, such as address or custom text should be enclosed in double quotes. \n",
    "\n",
    "\n",
    "\n",
    "### Getting Started with Data \n",
    "-------\n",
    "The following general guidance is provided to get the most out of your AWS Fraud Detector Online Fraud Insights Model. \n",
    "\n",
    "* Gathering Data -  The OFI model requires a minimum of 10k records. We recommend that a minimum of 6 weeks of historic data is collected, though 3 - 6 months of data is preferable.   As part of the process the OFI model partitions your data based on the Event Timestamp such that performance metrics are calculated on the out of sample (latest) data, thus the format of the event timestamp is important. \n",
    "\n",
    "  \n",
    "* Data & Label Maturity: As part of the data gathering process we want to insure that records have had sufficient time to “mature”, i.e. that enough time has passed to insure “non-fraud\" and  “fraud” records have been correctly identified. It often takes 30 - 45 days (or more) to correctly identify fraudulent events, because of this it is important to insure that the latest records are at least 30 days old or older.  \n",
    "\n",
    "  \n",
    "* Sampling: The OFI training process will sample and partition historic based on event timestamp. There is no need to manually sample the data and doing so may negatively influence your model’s results.  \n",
    "\n",
    "  \n",
    "* Fraud Labels:  The OFI model requires that a minimum of 500 observations are identified and labeled as “fraud”. As noted above, fraud label maturity is important. Insure that extracted data has sufficiently matured to insure that fraudulent events have been reliably found. \n",
    "  \n",
    "  \n",
    "* Custom Fields: the OFI model requires 4 fields: event timestamp, IP address, email address and fraud label. The more custom fields you provide the better the OFI model can differentiate between fraud and not fraud.  \n",
    "  \n",
    "  \n",
    "* Nulls and Missing Values: OFI model handles null and missing values, however the percentage of nulls in key fields should be limited. Especially timestamp and fraud label columns should not contain any missing values.   \n",
    "\n",
    "  \n",
    "If you would like to know more, please check out the [Fraud Detector's Documentation](https://docs.aws.amazon.com/frauddetector/). \n"
   ]
  },
  {
   "cell_type": "code",
   "execution_count": 1,
   "metadata": {},
   "outputs": [
    {
     "data": {
      "text/html": [
       "<style>.container { width:90% }</style>"
      ],
      "text/plain": [
       "<IPython.core.display.HTML object>"
      ]
     },
     "metadata": {},
     "output_type": "display_data"
    }
   ],
   "source": [
    "from IPython.core.display import display, HTML\n",
    "from IPython.display import clear_output\n",
    "display(HTML(\"<style>.container { width:90% }</style>\"))\n",
    "from IPython.display import IFrame\n",
    "# ------------------------------------------------------------------\n",
    "import numpy as np\n",
    "import pandas as pd\n",
    "pd.set_option('display.max_rows', 500)\n",
    "pd.set_option('display.max_columns', 500)\n",
    "pd.set_option('display.width', 1000)\n",
    "pd.options.display.float_format = '{:.4f}'.format\n",
    "\n",
    "# -- AWS stuff -- \n",
    "import boto3\n"
   ]
  },
  {
   "cell_type": "markdown",
   "metadata": {},
   "source": [
    "### Amazon Fraud Detector Profiling \n",
    "-----\n",
    "\n",
    "from github download and copy the afd_profile.py python program and template directory to your notebook  \n",
    "\n",
    "<div class=\"alert alert-info\"> <strong> afd_profile.py </strong>\n",
    "\n",
    "- afd_profile.py - is the python package which will generate your profile report. \n",
    "- /templates - directory contains the supporting profile templates \n",
    "\n",
    "\n",
    "</div>\n"
   ]
  },
  {
   "cell_type": "code",
   "execution_count": 2,
   "metadata": {},
   "outputs": [],
   "source": [
    "# -- get this package from github -- \n",
    "import afd_profile"
   ]
  },
  {
   "cell_type": "markdown",
   "metadata": {},
   "source": [
    "### Intialize your S3 client \n",
    "-----\n",
    "https://boto3.amazonaws.com/v1/documentation/api/latest/reference/services/s3.html"
   ]
  },
  {
   "cell_type": "code",
   "execution_count": 3,
   "metadata": {},
   "outputs": [],
   "source": [
    "client = boto3.client('s3')"
   ]
  },
  {
   "cell_type": "markdown",
   "metadata": {},
   "source": [
    "### File & Field Mapping\n",
    "-----\n",
    "Simply map your file and field names to the required config values. \n",
    "\n",
    "<div class=\"alert alert-info\"> <strong> Map the Required fields </strong>\n",
    "\n",
    "- input_file: this is your CSV file in your s3 bucket \n",
    "\n",
    "<b> required_features </b> are the minimally required freatures to run Amazon Fraud Detector \n",
    "- EVENT_TIMESTAMP: map this to your file's Date or Datetime field.    \n",
    "- IP_ADDRESS: map this to your file's IP address field.   \n",
    "- EMAIL_ADDRESS: map this to your file's email address field.  \n",
    "- FRAUD_LABEL: map this to your file's fraud label field.  \n",
    "    **note: the profiler will identify the \"rare\" case and assume that it is fraud**\n",
    "    \n",
    "</div>\n"
   ]
  },
  {
   "cell_type": "code",
   "execution_count": 4,
   "metadata": {},
   "outputs": [],
   "source": [
    "# input_file = 's3://sagemaker-us-east-2-057716757052/fraud/console/registration_data_20K_minimum.csv'\n",
    "# ! aws s3 cp {input_file} ."
   ]
  },
  {
   "cell_type": "code",
   "execution_count": 7,
   "metadata": {},
   "outputs": [],
   "source": [
    "local_input_file = '../data/registration_data_20K_full.csv'\n",
    "# %store -r train_data_file_name\n",
    "# %store -r test_data_file_name\n",
    "\n",
    "## 기존 노트북에서 생성한 데이터 사용\n",
    "# train_data_file_name = '../' + train_data_file_name\n",
    "# test_data_file_name = '../' +  test_data_file_name"
   ]
  },
  {
   "cell_type": "code",
   "execution_count": 8,
   "metadata": {},
   "outputs": [
    {
     "data": {
      "text/html": [
       "<div>\n",
       "<style scoped>\n",
       "    .dataframe tbody tr th:only-of-type {\n",
       "        vertical-align: middle;\n",
       "    }\n",
       "\n",
       "    .dataframe tbody tr th {\n",
       "        vertical-align: top;\n",
       "    }\n",
       "\n",
       "    .dataframe thead th {\n",
       "        text-align: right;\n",
       "    }\n",
       "</style>\n",
       "<table border=\"1\" class=\"dataframe\">\n",
       "  <thead>\n",
       "    <tr style=\"text-align: right;\">\n",
       "      <th></th>\n",
       "      <th>ip_address</th>\n",
       "      <th>email_address</th>\n",
       "      <th>billing_state</th>\n",
       "      <th>user_agent</th>\n",
       "      <th>billing_postal</th>\n",
       "      <th>phone_number</th>\n",
       "      <th>EVENT_TIMESTAMP</th>\n",
       "      <th>billing_address</th>\n",
       "      <th>EVENT_LABEL</th>\n",
       "    </tr>\n",
       "  </thead>\n",
       "  <tbody>\n",
       "    <tr>\n",
       "      <th>0</th>\n",
       "      <td>112.136.132.151</td>\n",
       "      <td>fake_cgonzales@example.net</td>\n",
       "      <td>NC</td>\n",
       "      <td>Mozilla/5.0 (iPad; CPU iPad OS 10_3_3 like Mac...</td>\n",
       "      <td>34491</td>\n",
       "      <td>(555)333 - 9246</td>\n",
       "      <td>2020-02-22 01:38:31</td>\n",
       "      <td>12351 Amanda Knolls Fake St.</td>\n",
       "      <td>legit</td>\n",
       "    </tr>\n",
       "    <tr>\n",
       "      <th>1</th>\n",
       "      <td>192.169.234.143</td>\n",
       "      <td>fake_dustin64@example.net</td>\n",
       "      <td>CO</td>\n",
       "      <td>Mozilla/5.0 (Windows; U; Windows NT 6.1) Apple...</td>\n",
       "      <td>34555</td>\n",
       "      <td>(555)779 - 5604</td>\n",
       "      <td>2020-04-08 23:29:41</td>\n",
       "      <td>691 Deborah Estate Fake St.</td>\n",
       "      <td>legit</td>\n",
       "    </tr>\n",
       "    <tr>\n",
       "      <th>2</th>\n",
       "      <td>185.112.224.79</td>\n",
       "      <td>fake_samuel59@example.net</td>\n",
       "      <td>CO</td>\n",
       "      <td>Mozilla/5.0 (Macintosh; U; Intel Mac OS X 10_7...</td>\n",
       "      <td>33611</td>\n",
       "      <td>(555)948 - 9198</td>\n",
       "      <td>2020-06-28 10:26:20</td>\n",
       "      <td>28583 Joseph Tunnel Fake St.</td>\n",
       "      <td>legit</td>\n",
       "    </tr>\n",
       "    <tr>\n",
       "      <th>3</th>\n",
       "      <td>68.73.183.186</td>\n",
       "      <td>fake_tinalopez@example.net</td>\n",
       "      <td>TN</td>\n",
       "      <td>Mozilla/5.0 (Linux; Android 7.1.1) AppleWebKit...</td>\n",
       "      <td>33520</td>\n",
       "      <td>(555)477 - 7885</td>\n",
       "      <td>2020-04-28 10:23:36</td>\n",
       "      <td>019 Linda Via Fake St.</td>\n",
       "      <td>legit</td>\n",
       "    </tr>\n",
       "    <tr>\n",
       "      <th>4</th>\n",
       "      <td>117.65.246.206</td>\n",
       "      <td>fake_alyssa53@example.com</td>\n",
       "      <td>NM</td>\n",
       "      <td>Mozilla/5.0 (compatible; MSIE 8.0; Windows NT ...</td>\n",
       "      <td>33889</td>\n",
       "      <td>(555)873 - 2599</td>\n",
       "      <td>2020-06-07 16:42:35</td>\n",
       "      <td>1023 Cook Loaf Fake St.</td>\n",
       "      <td>legit</td>\n",
       "    </tr>\n",
       "  </tbody>\n",
       "</table>\n",
       "</div>"
      ],
      "text/plain": [
       "        ip_address               email_address billing_state                                         user_agent  billing_postal     phone_number      EVENT_TIMESTAMP               billing_address EVENT_LABEL\n",
       "0  112.136.132.151  fake_cgonzales@example.net            NC  Mozilla/5.0 (iPad; CPU iPad OS 10_3_3 like Mac...           34491  (555)333 - 9246  2020-02-22 01:38:31  12351 Amanda Knolls Fake St.       legit\n",
       "1  192.169.234.143   fake_dustin64@example.net            CO  Mozilla/5.0 (Windows; U; Windows NT 6.1) Apple...           34555  (555)779 - 5604  2020-04-08 23:29:41   691 Deborah Estate Fake St.       legit\n",
       "2   185.112.224.79   fake_samuel59@example.net            CO  Mozilla/5.0 (Macintosh; U; Intel Mac OS X 10_7...           33611  (555)948 - 9198  2020-06-28 10:26:20  28583 Joseph Tunnel Fake St.       legit\n",
       "3    68.73.183.186  fake_tinalopez@example.net            TN  Mozilla/5.0 (Linux; Android 7.1.1) AppleWebKit...           33520  (555)477 - 7885  2020-04-28 10:23:36        019 Linda Via Fake St.       legit\n",
       "4   117.65.246.206   fake_alyssa53@example.com            NM  Mozilla/5.0 (compatible; MSIE 8.0; Windows NT ...           33889  (555)873 - 2599  2020-06-07 16:42:35       1023 Cook Loaf Fake St.       legit"
      ]
     },
     "execution_count": 8,
     "metadata": {},
     "output_type": "execute_result"
    }
   ],
   "source": [
    "import pandas as pd\n",
    "df = pd.read_csv(local_input_file)\n",
    "df.head()"
   ]
  },
  {
   "cell_type": "code",
   "execution_count": 9,
   "metadata": {},
   "outputs": [],
   "source": [
    "# -- update your configuration -- \n",
    "config = {  \n",
    "    \"input_file\"        : local_input_file,\n",
    "    \"required_features\" : {\n",
    "        \"EVENT_TIMESTAMP\" : \"EVENT_TIMESTAMP\",\n",
    "        \"EVENT_LABEL\"     : \"EVENT_LABEL\",\n",
    "        \"IP_ADDRESS\"      : \"ip_address\",\n",
    "        \"EMAIL_ADDRESS\"   : \"email_address\"\n",
    "    }\n",
    "}\n"
   ]
  },
  {
   "cell_type": "markdown",
   "metadata": {},
   "source": [
    "#### Run Profiler\n",
    "-----\n",
    "The profiler will read your file and produce an HTML file as a result which will be displayed inline within this notebook.  \n",
    "  \n",
    "Note: you can also open **report.html** in a separate browser tab. "
   ]
  },
  {
   "cell_type": "code",
   "execution_count": 10,
   "metadata": {},
   "outputs": [
    {
     "name": "stdout",
     "output_type": "stream",
     "text": [
      "0\n"
     ]
    }
   ],
   "source": [
    "# -- generate the report object --\n",
    "report = afd_profile.profile_report(config)"
   ]
  },
  {
   "cell_type": "code",
   "execution_count": 11,
   "metadata": {},
   "outputs": [
    {
     "data": {
      "text/html": [
       "\n",
       "        <iframe\n",
       "            width=\"1500\"\n",
       "            height=\"1500\"\n",
       "            src=\"report_full_cols.html\"\n",
       "            frameborder=\"0\"\n",
       "            allowfullscreen\n",
       "        ></iframe>\n",
       "        "
      ],
      "text/plain": [
       "<IPython.lib.display.IFrame at 0x7fab9f8be780>"
      ]
     },
     "execution_count": 11,
     "metadata": {},
     "output_type": "execute_result"
    }
   ],
   "source": [
    "with open(\"report_full_cols.html\", \"w\") as file:\n",
    "    file.write(report)\n",
    "\n",
    "IFrame(src='report_full_cols.html', width=1500, height=1500)\n"
   ]
  }
 ],
 "metadata": {
  "kernelspec": {
   "display_name": "conda_python3",
   "language": "python",
   "name": "conda_python3"
  },
  "language_info": {
   "codemirror_mode": {
    "name": "ipython",
    "version": 3
   },
   "file_extension": ".py",
   "mimetype": "text/x-python",
   "name": "python",
   "nbconvert_exporter": "python",
   "pygments_lexer": "ipython3",
   "version": "3.6.10"
  }
 },
 "nbformat": 4,
 "nbformat_minor": 4
}
