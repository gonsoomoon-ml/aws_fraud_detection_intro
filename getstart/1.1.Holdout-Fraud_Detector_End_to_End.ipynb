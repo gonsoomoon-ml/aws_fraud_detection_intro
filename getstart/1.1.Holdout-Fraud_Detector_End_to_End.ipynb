{
 "cells": [
  {
   "cell_type": "markdown",
   "metadata": {},
   "source": [
    "#  Amazon Fraud Detector 소개 노트북\n",
    "이 노트북은 아래의 원본 노트북의 내용을 기반으로 하였습니다.\n",
    "\n",
    "- An Introduction to the Amazon Fraud Detector API  \n",
    "- https://github.com/aws-samples/aws-fraud-detector-samples/blob/master/Fraud_Detector_End_to_End.ipynb\n",
    "\n",
    "이 노트북은 원본과 다음 부분이 다릅니다.\n",
    "- 데이터를 시간 순으로 훈련, 검증으로 분리하여 사용 (8:2로 분리)\n",
    "    - 원본은 훈련(20,000)개 사용하였으나, 여기서는 16,000개의 훈련데이터로 학습 함.\n",
    "    - 원본은 훈련 데이터의 일부로 추론을 했으나, 여기서는 4,000개의 태스트 데이터로 추론 함.\n",
    "- 추론 결과 확인 및 분석\n",
    "    - 원본에 없는 추론 결과(4,000)를 ROC_AUC, F!, Recall, Precsion 를 확인 함.\n",
    "\n",
    "#### Supervised fraud detection  \n",
    "-------\n",
    "- [Introduction](#Introduction)\n",
    "- [Setup](#Setup)\n",
    "- [Plan](#Plan)\n",
    "\n",
    "\n",
    "## Introduction\n",
    "-------\n"
   ]
  },
  {
   "cell_type": "code",
   "execution_count": 2,
   "metadata": {},
   "outputs": [
    {
     "data": {
      "text/html": [
       "<style>.container { width:90% }</style>"
      ],
      "text/plain": [
       "<IPython.core.display.HTML object>"
      ]
     },
     "metadata": {},
     "output_type": "display_data"
    }
   ],
   "source": [
    "from IPython.core.display import display, HTML\n",
    "from IPython.display import clear_output\n",
    "display(HTML(\"<style>.container { width:90% }</style>\"))\n",
    "# ------------------------------------------------------------------\n",
    "\n",
    "import numpy as np\n",
    "import matplotlib.pyplot as plt\n",
    "import pandas as pd\n",
    "pd.set_option('display.max_rows', 500)\n",
    "pd.set_option('display.max_columns', 500)\n",
    "pd.set_option('display.width', 1000)\n",
    "\n",
    "import os\n",
    "import sys\n",
    "import time\n",
    "import json\n",
    "import uuid \n",
    "from datetime import datetime\n",
    "\n",
    "# -- AWS stuff -- \n",
    "import boto3\n",
    "import sagemaker\n",
    "\n",
    "# -- sklearn --\n",
    "from sklearn.metrics import roc_curve, roc_auc_score, auc, roc_auc_score\n",
    "%matplotlib inline "
   ]
  },
  {
   "cell_type": "code",
   "execution_count": 3,
   "metadata": {},
   "outputs": [],
   "source": [
    "# -- initialize the AFD client \n",
    "client = boto3.client('frauddetector')\n",
    "\n",
    "# -- suffix is appended to detector and model name for uniqueness  \n",
    "sufx   = datetime.now().strftime(\"%Y%m%d\")\n"
   ]
  },
  {
   "cell_type": "markdown",
   "metadata": {},
   "source": [
    "### 1. Setup \n",
    "-----\n",
    "\n",
    "***To get started ***  \n",
    "\n",
    "1. Name the major components of Fraud Detector.\n",
    "2. Plug in your ARN role \n",
    "3. Plug in your S3 Bucket and CSV File \n",
    "\n",
    "Then you can interactively exeucte the code cells in the notebook, no need to change anything unless you want to. \n",
    "\n",
    "\n",
    "<div class=\"alert alert-info\"> <strong> Fraud Detector Components </strong>\n",
    "Fraud Detector Components:  EVENT_TYPE is a business activity that you want evaluated for fraud risk. ENTITY_TYPE represents the \"what or who\" that is performing the event you want to evaluate. MODEL_NAME is the name of your supervised machine learning model that Fraud Detector trains on your behalf. DETECTOR_NAME is the name of the detector that contains the detection logic (model and rules) that you apply to events that you want to evaluate for fraud.\n",
    "\n",
    "</div>\n",
    "\n",
    "\n",
    "-----\n",
    "\n",
    "### Bucket, File, and ARN Role\n",
    "\n",
    "Bucket, ARN and Model Name Identify the following assets. S3_BUCKET is the name of the bucket where your file lives. S3_FILE is the URL to your s3 file. ARN_ROLE is the data access role \"ARN\" for the training data source.\n",
    "\n",
    "\n",
    "\n",
    "<div class=\"alert alert-info\"><strong> Bucket, ARN and Model Name </strong>\n",
    "\n",
    "Identify the following assets. S3_BUCKET is the name of the bucket where your file lives. S3_FILE is the URL to your s3 file. ARN_ROLE is the data access role \"ARN\" for the training data source.\n",
    "\n",
    "</div>\n",
    "\n",
    "```\n",
    "Note: To use Amazon Fraud Detector, you have to set up permissions that allow access to the Amazon Fraud Detector console and API operations. You also have to allow Amazon Fraud Detector to perform tasks on your behalf and to access resources that you own. We recommend creating an AWS Identify and Access Management (IAM) user with access restricted to. Amazon Fraud Detector operations and required permissions. You can add other permissions as needed. See \"Create an IAM User and Assign Required Permissions\" in the user's guide:\n",
    "```\n",
    "https://docs.aws.amazon.com/frauddetector/latest/ug/frauddetector.pdf\n"
   ]
  },
  {
   "cell_type": "markdown",
   "metadata": {},
   "source": [
    "## 데이터 로딩\n",
    "\n",
    "데이터는 미리 업로드한 data 폴더의 데이터를 사용 합니다."
   ]
  },
  {
   "cell_type": "code",
   "execution_count": 4,
   "metadata": {},
   "outputs": [
    {
     "name": "stdout",
     "output_type": "stream",
     "text": [
      "rdf :  (20000, 4)\n",
      "rdf columns :  Index(['ip_address', 'email_address', 'EVENT_TIMESTAMP', 'EVENT_LABEL'], dtype='object')\n"
     ]
    },
    {
     "data": {
      "text/html": [
       "<div>\n",
       "<style scoped>\n",
       "    .dataframe tbody tr th:only-of-type {\n",
       "        vertical-align: middle;\n",
       "    }\n",
       "\n",
       "    .dataframe tbody tr th {\n",
       "        vertical-align: top;\n",
       "    }\n",
       "\n",
       "    .dataframe thead th {\n",
       "        text-align: right;\n",
       "    }\n",
       "</style>\n",
       "<table border=\"1\" class=\"dataframe\">\n",
       "  <thead>\n",
       "    <tr style=\"text-align: right;\">\n",
       "      <th></th>\n",
       "      <th>ip_address</th>\n",
       "      <th>email_address</th>\n",
       "      <th>EVENT_TIMESTAMP</th>\n",
       "      <th>EVENT_LABEL</th>\n",
       "    </tr>\n",
       "  </thead>\n",
       "  <tbody>\n",
       "    <tr>\n",
       "      <th>0</th>\n",
       "      <td>46.41.252.160</td>\n",
       "      <td>fake_acostasusan@example.org</td>\n",
       "      <td>2019-10-08 20:44:00</td>\n",
       "      <td>legit</td>\n",
       "    </tr>\n",
       "    <tr>\n",
       "      <th>1</th>\n",
       "      <td>152.58.247.12</td>\n",
       "      <td>fake_christopheryoung@example.com</td>\n",
       "      <td>2020-05-23 19:44:00</td>\n",
       "      <td>legit</td>\n",
       "    </tr>\n",
       "  </tbody>\n",
       "</table>\n",
       "</div>"
      ],
      "text/plain": [
       "      ip_address                      email_address     EVENT_TIMESTAMP EVENT_LABEL\n",
       "0  46.41.252.160       fake_acostasusan@example.org 2019-10-08 20:44:00       legit\n",
       "1  152.58.247.12  fake_christopheryoung@example.com 2020-05-23 19:44:00       legit"
      ]
     },
     "execution_count": 4,
     "metadata": {},
     "output_type": "execute_result"
    }
   ],
   "source": [
    "import pandas as pd\n",
    "\n",
    "data_file = 'data/registration_data_20K_minimum.csv'\n",
    "date_cols = ['EVENT_TIMESTAMP']\n",
    "rdf = pd.read_csv(data_file, parse_dates = date_cols)\n",
    "print(\"rdf : \", rdf.shape)\n",
    "print(\"rdf columns : \", rdf.columns)\n",
    "rdf.head(2)"
   ]
  },
  {
   "cell_type": "markdown",
   "metadata": {},
   "source": [
    "## 데이터 (훈련,테스트) 분리, 로컬 및 S3 저장\n",
    "\n",
    "원본의 노트북과 다르게 여기서는 데이터를 아래와 같이 처리 합니다.\n",
    "- 데이터를 시간순으로 훈련, 테스트로 8:2로 분리 합니다.\n",
    "- 훈련, 테스트의 시간의 경계를 확인 하세요."
   ]
  },
  {
   "cell_type": "code",
   "execution_count": 5,
   "metadata": {},
   "outputs": [
    {
     "name": "stdout",
     "output_type": "stream",
     "text": [
      "data1, data2 shape: (16000, 4),(4000, 4)\n",
      "data1 min, max date: 2019-07-16 06:36:00, 2020-05-04 07:00:00\n",
      "data2 min, max date: 2020-05-04 07:48:00, 2020-07-15 11:49:00\n"
     ]
    }
   ],
   "source": [
    "import numpy as np\n",
    "def split_data(raw_df, sort_col='EVENT_TIMESTAMP',val_ratio=0.2):\n",
    "    '''\n",
    "    train, test 데이터 분리\n",
    "    '''\n",
    "    df = raw_df.copy()\n",
    "    val_ratio = 1 - val_ratio # 1 - 0.3  = 0.7\n",
    "\n",
    "    \n",
    "    df = df.sort_values(by= sort_col) # 시간 순으로 정렬\n",
    "    # One-Hot-Encoding\n",
    "    data1,data2, = np.split(df, \n",
    "                     [int(val_ratio * len(df))])   # Randomly sort the data then split out first 70%, second 20%, and last 10%\n",
    "    \n",
    "    print(f\"data1, data2 shape: {data1.shape},{data2.shape}\")\n",
    "    print(f\"data1 min, max date: {data1[sort_col].min()}, {data1[sort_col].max()}\")\n",
    "    print(f\"data2 min, max date: {data2[sort_col].min()}, {data2[sort_col].max()}\")    \n",
    "    \n",
    "    return data1, data2\n",
    "\n",
    "train_df, test_df = split_data(rdf, val_ratio=0.2)"
   ]
  },
  {
   "cell_type": "markdown",
   "metadata": {},
   "source": [
    "훈련과 테스트 파일을 로컬에 저장 합니다."
   ]
  },
  {
   "cell_type": "code",
   "execution_count": 6,
   "metadata": {},
   "outputs": [
    {
     "name": "stdout",
     "output_type": "stream",
     "text": [
      "Stored 'train_data_file_name' (str)\n",
      "Stored 'test_data_file_name' (str)\n"
     ]
    }
   ],
   "source": [
    "import os\n",
    "# 훈련 파일\n",
    "folder = 'preproc_data/train'\n",
    "os.makedirs(folder, exist_ok=True)\n",
    "train_data_file_name = os.path.join(folder,'train.csv')\n",
    "train_df.to_csv(train_data_file_name, index=None)\n",
    "\n",
    "# 테스트 파일\n",
    "folder = 'preproc_data/test'\n",
    "os.makedirs(folder, exist_ok=True)\n",
    "test_data_file_name = os.path.join(folder,'test.csv')\n",
    "test_df.to_csv(test_data_file_name, index=None)\n",
    "\n",
    "%store train_data_file_name\n",
    "%store test_data_file_name"
   ]
  },
  {
   "cell_type": "markdown",
   "metadata": {},
   "source": [
    "훈련 파일을 S3에 업로드 하여 model 훈련시에 입력으로 제공 합니다."
   ]
  },
  {
   "cell_type": "code",
   "execution_count": 6,
   "metadata": {},
   "outputs": [
    {
     "name": "stdout",
     "output_type": "stream",
     "text": [
      "train_s3_path:  s3://sagemaker-us-east-2-057716757052/fraud/getstart/preproc_data/train/train.csv\n",
      "s3_file_prefix:  fraud/getstart/preproc_data/train/train.csv\n"
     ]
    }
   ],
   "source": [
    "from p_utils import upload_s3\n",
    "import sagemaker\n",
    "\n",
    "session = sagemaker.Session()\n",
    "bucket = session.default_bucket()\n",
    "\n",
    "# Upload train. test file\n",
    "data_prefix = 'fraud/getstart'\n",
    "\n",
    "train_s3_path = upload_s3(bucket, train_data_file_name, data_prefix)\n",
    "print(\"train_s3_path: \", train_s3_path)\n",
    "s3_file_prefix = os.path.join(data_prefix, train_data_file_name)\n",
    "print(\"s3_file_prefix: \", s3_file_prefix)"
   ]
  },
  {
   "cell_type": "markdown",
   "metadata": {},
   "source": [
    "train_df를 df 로 복사해서 사용 합니다."
   ]
  },
  {
   "cell_type": "code",
   "execution_count": 8,
   "metadata": {},
   "outputs": [],
   "source": [
    "# df를 train_df 로 가준\n",
    "df = train_df.copy()"
   ]
  },
  {
   "cell_type": "markdown",
   "metadata": {},
   "source": [
    "## 오브젝트 세팅\n",
    "아래는 Fraud Detection에서 필요한 오브젝트 입니다. 각자 정의해서 사용해야 합니다."
   ]
  },
  {
   "cell_type": "code",
   "execution_count": 18,
   "metadata": {},
   "outputs": [
    {
     "name": "stdout",
     "output_type": "stream",
     "text": [
      "ENTITY_TYPE:  holdout_sampple_customer_20201122\n",
      "S3_FILE_LOC:  s3://sagemaker-us-east-2-057716757052/fraud/getstart/preproc_data/train/train.csv\n"
     ]
    }
   ],
   "source": [
    "# -- This is all you need to fill out. Once complete simply interactively run each code cell. --  \n",
    "ENTITY_TYPE    = \"holdout_sampple_customer_{0}\".format(sufx) \n",
    "ENTITY_DESC    = \"holdout_entity description: {0}\".format(sufx) \n",
    "print(\"ENTITY_TYPE: \", ENTITY_TYPE)\n",
    "\n",
    "EVENT_TYPE     = \"holdout_sample_regi_nb{0}\".format(sufx) \n",
    "EVENT_DESC     = \"holdout example event description: {0}\".format(sufx) \n",
    "\n",
    "MODEL_NAME     = \"holdout_sample_fraud_nb_{0}\".format(sufx) \n",
    "MODEL_DESC     = \"holdout model trained on: {0}\".format(sufx) \n",
    "\n",
    "DETECTOR_NAME  = \"holdout_sample_detect_{0}\".format(sufx)                        \n",
    "DETECTOR_DESC  = \"holdout_detects synthetic fraud events created: {0}\".format(sufx) \n",
    "\n",
    "ARN_ROLE       = \"arn:aws:iam::057716757052:role/service-role/AmazonFraudDetector-DataAccessRole-1605937105031\"\n",
    "S3_BUCKET      = bucket\n",
    "S3_FILE        = s3_file_prefix\n",
    "S3_FILE_LOC    = \"s3://{0}/{1}\".format(S3_BUCKET,S3_FILE)\n",
    "print(\"S3_FILE_LOC: \", S3_FILE_LOC)"
   ]
  },
  {
   "cell_type": "markdown",
   "metadata": {},
   "source": [
    "### 2. Profile Your Dataset \n",
    "-----\n",
    "\n",
    "    \n",
    "<div class=\"alert alert-info\"> 💡 <strong> Profiling </strong>\n",
    "\n",
    "The function below will: 1. profile your data, creating descriptive statistics, 2. perform basic data quality checks (nulls, unique variables, etc.), and 3. return summary statistics and the EVENT and MODEL schemas used to define your EVENT_TYPE and TRAIN your MODEL.\n",
    "\n",
    "\n",
    "</div>"
   ]
  },
  {
   "cell_type": "code",
   "execution_count": 19,
   "metadata": {},
   "outputs": [
    {
     "name": "stdout",
     "output_type": "stream",
     "text": [
      "obj:  s3.Object(bucket_name='sagemaker-us-east-2-057716757052', key='fraud/getstart/preproc_data/train/train.csv')\n",
      "<botocore.response.StreamingBody object at 0x7fb0905abb70>\n",
      "--- summary stats ---\n",
      "      feature_name           dtype  count  nunique  null  not_null  null_pct  nunique_pct     feature_type feature_warning\n",
      "0       ip_address          object  16000     1248     0     16000       0.0       0.0780       IP_ADDRESS      NO WARNING\n",
      "1    email_address          object  16000     1451     0     16000       0.0       0.0907    EMAIL_ADDRESS      NO WARNING\n",
      "2  EVENT_TIMESTAMP  datetime64[ns]  16000    15717     0     16000       0.0       0.9823  EVENT_TIMESTAMP      NO WARNING\n",
      "3      EVENT_LABEL          object  16000        2     0     16000       0.0       0.0001           TARGET      NO WARNING\n",
      "\n",
      "\n",
      "--- event variables ---\n",
      "['ip_address', 'email_address']\n",
      "\n",
      "\n",
      "--- event labels ---\n",
      "['legit', 'fraud']\n",
      "\n",
      "\n",
      "--- training data schema ---\n",
      "{'modelVariables': ['ip_address', 'email_address'], 'labelSchema': {'labelMapper': {'FRAUD': ['fraud'], 'LEGIT': ['legit']}}}\n",
      "\n",
      "\n"
     ]
    }
   ],
   "source": [
    "# --- no changes; just run this code block ---\n",
    "def summary_stats(df):\n",
    "    \"\"\" Generate summary statistics for a panda's data frame \n",
    "        Args:\n",
    "            df (DataFrame): panda's dataframe to create summary statistics for.\n",
    "        Returns:\n",
    "            DataFrame of summary statistics, training data schema, event variables and event lables \n",
    "    \"\"\"\n",
    "    df = df.copy()\n",
    "    rowcnt = len(df)\n",
    "    df['EVENT_LABEL'] = df['EVENT_LABEL'].astype('str', errors='ignore')\n",
    "    df_s1  = df.agg(['count', 'nunique']).transpose().reset_index().rename(columns={\"index\":\"feature_name\"})\n",
    "    df_s1[\"null\"] = (rowcnt - df_s1[\"count\"]).astype('int64')\n",
    "    df_s1[\"not_null\"] = rowcnt - df_s1[\"null\"]\n",
    "    df_s1[\"null_pct\"] = df_s1[\"null\"] / rowcnt\n",
    "    df_s1[\"nunique_pct\"] = df_s1['nunique']/ rowcnt\n",
    "    dt = pd.DataFrame(df.dtypes).reset_index().rename(columns={\"index\":\"feature_name\", 0:\"dtype\"})\n",
    "    df_stats = pd.merge(dt, df_s1, on='feature_name', how='inner').round(4)\n",
    "    df_stats['nunique'] = df_stats['nunique'].astype('int64')\n",
    "    df_stats['count'] = df_stats['count'].astype('int64')\n",
    "    \n",
    "    # -- variable type mapper --  \n",
    "    df_stats['feature_type'] = \"UNKOWN\"\n",
    "    df_stats.loc[df_stats[\"dtype\"] == object, 'feature_type'] = \"CATEGORY\"\n",
    "    df_stats.loc[(df_stats[\"dtype\"] == \"int64\") | (df_stats[\"dtype\"] == \"float64\"), 'feature_type'] = \"NUMERIC\"\n",
    "    df_stats.loc[df_stats[\"feature_name\"].str.contains(\"ipaddress|ip_address|ipaddr\"), 'feature_type'] = \"IP_ADDRESS\"\n",
    "    df_stats.loc[df_stats[\"feature_name\"].str.contains(\"email|email_address|emailaddr\"), 'feature_type'] = \"EMAIL_ADDRESS\"\n",
    "    df_stats.loc[df_stats[\"feature_name\"] == \"EVENT_LABEL\", 'feature_type'] = \"TARGET\"\n",
    "    df_stats.loc[df_stats[\"feature_name\"] == \"EVENT_TIMESTAMP\", 'feature_type'] = \"EVENT_TIMESTAMP\"\n",
    "    \n",
    "    # -- variable warnings -- \n",
    "    df_stats['feature_warning'] = \"NO WARNING\"\n",
    "    df_stats.loc[(df_stats[\"nunique\"] != 2) & (df_stats[\"feature_name\"] == \"EVENT_LABEL\"),'feature_warning' ] = \"LABEL WARNING, NON-BINARY EVENT LABEL\"\n",
    "    df_stats.loc[(df_stats[\"nunique_pct\"] > 0.9) & (df_stats['feature_type'] == \"CATEGORY\") ,'feature_warning' ] = \"EXCLUDE, GT 90% UNIQUE\"\n",
    "    df_stats.loc[(df_stats[\"null_pct\"] > 0.2) & (df_stats[\"null_pct\"] <= 0.5), 'feature_warning' ] = \"NULL WARNING, GT 20% MISSING\"\n",
    "    df_stats.loc[df_stats[\"null_pct\"] > 0.5,'feature_warning' ] = \"EXCLUDE, GT 50% MISSING\"\n",
    "    df_stats.loc[((df_stats['dtype'] == \"int64\" ) | (df_stats['dtype'] == \"float64\" ) ) & (df_stats['nunique'] < 0.2), 'feature_warning' ] = \"LIKELY CATEGORICAL, NUMERIC w. LOW CARDINALITY\"\n",
    "   \n",
    "    # -- target check -- \n",
    "    exclude_fields  = df_stats.loc[(df_stats['feature_warning'] != 'NO WARNING')]['feature_name'].to_list()\n",
    "    event_variables = df_stats.loc[(~df_stats['feature_name'].isin(['EVENT_LABEL', 'EVENT_TIMESTAMP']))]['feature_name'].to_list()\n",
    "    event_labels    = df[\"EVENT_LABEL\"].unique().tolist()\n",
    "    \n",
    "    trainingDataSchema = {\n",
    "        'modelVariables' : df_stats.loc[(df_stats['feature_type'].isin(['IP_ADDRESS', 'EMAIL_ADDRESS', 'CATEGORY', 'NUMERIC' ]))]['feature_name'].to_list(),\n",
    "        'labelSchema'    : {\n",
    "            'labelMapper' : {\n",
    "                'FRAUD' : [df[\"EVENT_LABEL\"].value_counts().idxmin()],\n",
    "                'LEGIT' : [df[\"EVENT_LABEL\"].value_counts().idxmax()]\n",
    "            }\n",
    "        }\n",
    "    }\n",
    "    \n",
    "    \n",
    "    model_variables = df_stats.loc[(df_stats['feature_type'].isin(['IP_ADDRESS', 'EMAIL_ADDRESS', 'CATEGORY', 'NUMERIC' ]))]['feature_name'].to_list()\n",
    "   \n",
    "    \n",
    "    # -- label schema -- \n",
    "    label_map = {\n",
    "        'FRAUD' : [df[\"EVENT_LABEL\"].value_counts().idxmin()],\n",
    "        'LEGIT' : [df[\"EVENT_LABEL\"].value_counts().idxmax()]\n",
    "    }\n",
    "    \n",
    "    \n",
    "    print(\"--- summary stats ---\")\n",
    "    print(df_stats)\n",
    "    print(\"\\n\")\n",
    "    print(\"--- event variables ---\")\n",
    "    print(event_variables)\n",
    "    print(\"\\n\")\n",
    "    print(\"--- event labels ---\")\n",
    "    print(event_labels)\n",
    "    print(\"\\n\")\n",
    "    print(\"--- training data schema ---\")\n",
    "    print(trainingDataSchema)\n",
    "    print(\"\\n\")\n",
    "    \n",
    "    return df_stats, trainingDataSchema, event_variables, event_labels\n",
    "\n",
    "# -- connect to S3, snag file, and convert to a panda's dataframe --\n",
    "s3   = boto3.resource('s3')\n",
    "obj  = s3.Object(S3_BUCKET, S3_FILE)\n",
    "print(\"obj: \", obj)\n",
    "body = obj.get()['Body']\n",
    "print(body)\n",
    "df   = pd.read_csv(body)\n",
    "\n",
    "# -- call profiling function -- \n",
    "df_stats, trainingDataSchema, eventVariables, eventLabels = summary_stats(train_df)\n"
   ]
  },
  {
   "cell_type": "code",
   "execution_count": 20,
   "metadata": {},
   "outputs": [
    {
     "name": "stdout",
     "output_type": "stream",
     "text": [
      "0.0504375 15193 807\n"
     ]
    }
   ],
   "source": [
    "df.EVENT_LABEL.value_counts()\n",
    "n_legal = df.EVENT_LABEL.value_counts()[0]\n",
    "n_fraud = df.EVENT_LABEL.value_counts()[1]\n",
    "print(n_fraud / (n_legal + n_fraud), n_legal, n_fraud)"
   ]
  },
  {
   "cell_type": "markdown",
   "metadata": {},
   "source": [
    "### 3. Create Variables\n",
    "-----\n",
    "\n",
    "<div class=\"alert alert-info\"> 💡 <strong> Create Variables. </strong>\n",
    "\n",
    "The following section will automatically create your modeling input variables and your model scoring variable for you. \n",
    "\n",
    "</div>"
   ]
  },
  {
   "cell_type": "code",
   "execution_count": 21,
   "metadata": {},
   "outputs": [
    {
     "data": {
      "text/html": [
       "<div>\n",
       "<style scoped>\n",
       "    .dataframe tbody tr th:only-of-type {\n",
       "        vertical-align: middle;\n",
       "    }\n",
       "\n",
       "    .dataframe tbody tr th {\n",
       "        vertical-align: top;\n",
       "    }\n",
       "\n",
       "    .dataframe thead th {\n",
       "        text-align: right;\n",
       "    }\n",
       "</style>\n",
       "<table border=\"1\" class=\"dataframe\">\n",
       "  <thead>\n",
       "    <tr style=\"text-align: right;\">\n",
       "      <th></th>\n",
       "      <th>feature_name</th>\n",
       "      <th>dtype</th>\n",
       "      <th>count</th>\n",
       "      <th>nunique</th>\n",
       "      <th>null</th>\n",
       "      <th>not_null</th>\n",
       "      <th>null_pct</th>\n",
       "      <th>nunique_pct</th>\n",
       "      <th>feature_type</th>\n",
       "      <th>feature_warning</th>\n",
       "    </tr>\n",
       "  </thead>\n",
       "  <tbody>\n",
       "    <tr>\n",
       "      <th>0</th>\n",
       "      <td>ip_address</td>\n",
       "      <td>object</td>\n",
       "      <td>16000</td>\n",
       "      <td>1248</td>\n",
       "      <td>0</td>\n",
       "      <td>16000</td>\n",
       "      <td>0.0</td>\n",
       "      <td>0.0780</td>\n",
       "      <td>IP_ADDRESS</td>\n",
       "      <td>NO WARNING</td>\n",
       "    </tr>\n",
       "    <tr>\n",
       "      <th>1</th>\n",
       "      <td>email_address</td>\n",
       "      <td>object</td>\n",
       "      <td>16000</td>\n",
       "      <td>1451</td>\n",
       "      <td>0</td>\n",
       "      <td>16000</td>\n",
       "      <td>0.0</td>\n",
       "      <td>0.0907</td>\n",
       "      <td>EMAIL_ADDRESS</td>\n",
       "      <td>NO WARNING</td>\n",
       "    </tr>\n",
       "    <tr>\n",
       "      <th>2</th>\n",
       "      <td>EVENT_TIMESTAMP</td>\n",
       "      <td>datetime64[ns]</td>\n",
       "      <td>16000</td>\n",
       "      <td>15717</td>\n",
       "      <td>0</td>\n",
       "      <td>16000</td>\n",
       "      <td>0.0</td>\n",
       "      <td>0.9823</td>\n",
       "      <td>EVENT_TIMESTAMP</td>\n",
       "      <td>NO WARNING</td>\n",
       "    </tr>\n",
       "    <tr>\n",
       "      <th>3</th>\n",
       "      <td>EVENT_LABEL</td>\n",
       "      <td>object</td>\n",
       "      <td>16000</td>\n",
       "      <td>2</td>\n",
       "      <td>0</td>\n",
       "      <td>16000</td>\n",
       "      <td>0.0</td>\n",
       "      <td>0.0001</td>\n",
       "      <td>TARGET</td>\n",
       "      <td>NO WARNING</td>\n",
       "    </tr>\n",
       "  </tbody>\n",
       "</table>\n",
       "</div>"
      ],
      "text/plain": [
       "      feature_name           dtype  count  nunique  null  not_null  null_pct  nunique_pct     feature_type feature_warning\n",
       "0       ip_address          object  16000     1248     0     16000       0.0       0.0780       IP_ADDRESS      NO WARNING\n",
       "1    email_address          object  16000     1451     0     16000       0.0       0.0907    EMAIL_ADDRESS      NO WARNING\n",
       "2  EVENT_TIMESTAMP  datetime64[ns]  16000    15717     0     16000       0.0       0.9823  EVENT_TIMESTAMP      NO WARNING\n",
       "3      EVENT_LABEL          object  16000        2     0     16000       0.0       0.0001           TARGET      NO WARNING"
      ]
     },
     "execution_count": 21,
     "metadata": {},
     "output_type": "execute_result"
    }
   ],
   "source": [
    "df_stats"
   ]
  },
  {
   "cell_type": "code",
   "execution_count": 22,
   "metadata": {},
   "outputs": [
    {
     "data": {
      "text/html": [
       "<div>\n",
       "<style scoped>\n",
       "    .dataframe tbody tr th:only-of-type {\n",
       "        vertical-align: middle;\n",
       "    }\n",
       "\n",
       "    .dataframe tbody tr th {\n",
       "        vertical-align: top;\n",
       "    }\n",
       "\n",
       "    .dataframe thead th {\n",
       "        text-align: right;\n",
       "    }\n",
       "</style>\n",
       "<table border=\"1\" class=\"dataframe\">\n",
       "  <thead>\n",
       "    <tr style=\"text-align: right;\">\n",
       "      <th></th>\n",
       "      <th>feature_name</th>\n",
       "      <th>dtype</th>\n",
       "      <th>count</th>\n",
       "      <th>nunique</th>\n",
       "      <th>null</th>\n",
       "      <th>not_null</th>\n",
       "      <th>null_pct</th>\n",
       "      <th>nunique_pct</th>\n",
       "      <th>feature_type</th>\n",
       "      <th>feature_warning</th>\n",
       "    </tr>\n",
       "  </thead>\n",
       "  <tbody>\n",
       "    <tr>\n",
       "      <th>0</th>\n",
       "      <td>ip_address</td>\n",
       "      <td>object</td>\n",
       "      <td>16000</td>\n",
       "      <td>1248</td>\n",
       "      <td>0</td>\n",
       "      <td>16000</td>\n",
       "      <td>0.0</td>\n",
       "      <td>0.0780</td>\n",
       "      <td>IP_ADDRESS</td>\n",
       "      <td>NO WARNING</td>\n",
       "    </tr>\n",
       "    <tr>\n",
       "      <th>1</th>\n",
       "      <td>email_address</td>\n",
       "      <td>object</td>\n",
       "      <td>16000</td>\n",
       "      <td>1451</td>\n",
       "      <td>0</td>\n",
       "      <td>16000</td>\n",
       "      <td>0.0</td>\n",
       "      <td>0.0907</td>\n",
       "      <td>EMAIL_ADDRESS</td>\n",
       "      <td>NO WARNING</td>\n",
       "    </tr>\n",
       "  </tbody>\n",
       "</table>\n",
       "</div>"
      ],
      "text/plain": [
       "    feature_name   dtype  count  nunique  null  not_null  null_pct  nunique_pct   feature_type feature_warning\n",
       "0     ip_address  object  16000     1248     0     16000       0.0       0.0780     IP_ADDRESS      NO WARNING\n",
       "1  email_address  object  16000     1451     0     16000       0.0       0.0907  EMAIL_ADDRESS      NO WARNING"
      ]
     },
     "execution_count": 22,
     "metadata": {},
     "output_type": "execute_result"
    }
   ],
   "source": [
    "df_stats.loc[(df_stats['feature_type'].isin(['IP_ADDRESS', 'EMAIL_ADDRESS']))]"
   ]
  },
  {
   "cell_type": "code",
   "execution_count": 23,
   "metadata": {},
   "outputs": [
    {
     "name": "stdout",
     "output_type": "stream",
     "text": [
      "test0\n",
      "variable_list:  [{'name': 'ip_address'}, {'name': 'email_address'}]\n",
      "test1\n",
      "variable_list:  [{'name': 'ip_address'}, {'name': 'email_address'}]\n",
      "test2\n",
      "variable_list:  [{'name': 'ip_address'}, {'name': 'email_address'}]\n",
      "\n",
      " --- model variable dict --\n",
      "[{'name': 'ip_address'}, {'name': 'email_address'}]\n"
     ]
    }
   ],
   "source": [
    "# --- no changes just run this code block ---\n",
    "def create_label(df, FRAUD_LABEL):\n",
    "    \"\"\"\n",
    "    Returns a dictionary for the model labelSchema, by identifying the rare event as fraud / and common as not-fraud \n",
    "    \n",
    "    Arguments:\n",
    "    df          -- input dataframe \n",
    "    FRAUD_LABEL -- the name of the field that contains fraud label  \n",
    "    \n",
    "    Returns:\n",
    "    labelSchema -- a dictionary containing labelKey & labelMapper \n",
    "    \"\"\"\n",
    "    label_summary = df[FRAUD_LABEL].value_counts()\n",
    "    labelSchema = {'labelKey': FRAUD_LABEL,\n",
    "                   \"labelMapper\" : { \"FRAUD\": [str(label_summary.idxmin())], \n",
    "                                     \"LEGIT\": [str(label_summary.idxmax())]}\n",
    "                  }\n",
    "    client.put_label(\n",
    "                name = str(label_summary.idxmin()),\n",
    "                description = 'FRAUD')\n",
    "    \n",
    "    client.put_label(\n",
    "                name = str(label_summary.idxmax()),\n",
    "                description = 'LEGIT')\n",
    "    return labelSchema\n",
    "    \n",
    "# -- function to create all your variables --- \n",
    "def create_variables(df_stats, MODEL_NAME):\n",
    "    \"\"\"\n",
    "    Returns a variable list of model input variables, checks to see if variable exists,\n",
    "    and, if not, then it adds the variable to Fraud Detector \n",
    "    \n",
    "    Arguments: \n",
    "    enrichment_features  -- dictionary of optional features, mapped to specific variable types enriched (CARD_BIN, USERAGENT)\n",
    "    numeric_features     -- optional list of numeric field names \n",
    "    categorical_features -- optional list of categorical features \n",
    "    \n",
    "    Returns:\n",
    "    variable_list -- a list of variable dictionaries \n",
    "    \n",
    "    \"\"\"\n",
    "    enrichment_features = df_stats.loc[(df_stats['feature_type'].isin(['IP_ADDRESS', 'EMAIL_ADDRESS']))].to_dict(orient=\"record\")\n",
    "    numeric_features = df_stats.loc[(df_stats['feature_type'].isin(['NUMERIC']))]['feature_name'].to_dict()\n",
    "    categorical_features = df_stats.loc[(df_stats['feature_type'].isin(['CATEGORY']))]['feature_name'].to_dict()\n",
    "    \n",
    "    variable_list = []\n",
    "    # -- first do the enrichment features\n",
    "    for feature in enrichment_features: \n",
    "        variable_list.append( {'name' : feature['feature_name']})\n",
    "        try:\n",
    "            resp = client.get_variables(name=feature['feature_name'])\n",
    "        except:\n",
    "            print(\"Creating variable: {0}\".format(feature['feature_name']))\n",
    "            resp = client.create_variable(\n",
    "                    name = feature['feature_name'],\n",
    "                    dataType = 'STRING',\n",
    "                    dataSource ='EVENT',\n",
    "                    defaultValue = '<unknown>', \n",
    "                    description = feature['feature_name'],\n",
    "                    variableType = feature['feature_type'] )\n",
    "                \n",
    "               \n",
    "    # -- check and update the numeric features \n",
    "    for feature in numeric_features: \n",
    "        variable_list.append( {'name' : numeric_features[feature]})\n",
    "        try:\n",
    "            resp = client.get_variables(name=numeric_features[feature])\n",
    "        except:\n",
    "            print(\"Creating variable: {0}\".format(numeric_features[feature]))\n",
    "            resp = client.create_variable(\n",
    "                    name = numeric_features[feature],\n",
    "                    dataType = 'FLOAT',\n",
    "                    dataSource ='EVENT',\n",
    "                    defaultValue = '0.0', \n",
    "                    description = numeric_features[feature],\n",
    "                    variableType = 'NUMERIC' )\n",
    "             \n",
    "    # -- check and update the categorical features \n",
    "    for feature in categorical_features: \n",
    "        variable_list.append( {'name' : categorical_features[feature]})\n",
    "        try:\n",
    "            resp = client.get_variables(name=categorical_features[feature])\n",
    "        except:\n",
    "            print(\"Creating variable: {0}\".format(categorical_features[feature]))\n",
    "            resp = client.create_variable(\n",
    "                    name = categorical_features[feature],\n",
    "                    dataType = 'STRING',\n",
    "                    dataSource ='EVENT',\n",
    "                    defaultValue = '<unknown>', \n",
    "                    description = categorical_features[feature],\n",
    "                    variableType = 'CATEGORICAL' )\n",
    "    \n",
    "\n",
    "\n",
    "# 에러 발생해서 주석 처리 함    \n",
    "#     # -- create a model score feature  \n",
    "#     model_feature = \"{0}_insightscore\".format(MODEL_NAME)  \n",
    "#     # variable_list.append( {'name' : model_feature})\n",
    "#     try:\n",
    "#         resp = client.get_variables(name=model_feature)\n",
    "#     except:\n",
    "#         print(\"Creating variable: {0}\".format(model_feature))\n",
    "#         resp = client.create_variable(\n",
    "#                 name = model_feature,\n",
    "#                 dataType = 'FLOAT',\n",
    "#                 dataSource ='MODEL_SCORE',\n",
    "#                 defaultValue = '0.0', \n",
    "#                 description = model_feature,\n",
    "#                 variableType = 'NUMERIC' )\n",
    "    \n",
    "\n",
    "\n",
    "\n",
    "    return variable_list\n",
    "\n",
    "\n",
    "model_variables = create_variables(df_stats, MODEL_NAME)\n",
    "print(\"\\n --- model variable dict --\")\n",
    "print(model_variables)\n",
    "\n",
    "\n"
   ]
  },
  {
   "cell_type": "code",
   "execution_count": 24,
   "metadata": {},
   "outputs": [
    {
     "name": "stdout",
     "output_type": "stream",
     "text": [
      "\n",
      " --- model label schema dict --\n",
      "{'labelKey': 'EVENT_LABEL', 'labelMapper': {'FRAUD': ['fraud'], 'LEGIT': ['legit']}}\n"
     ]
    }
   ],
   "source": [
    "model_label = create_label(df, \"EVENT_LABEL\")\n",
    "print(\"\\n --- model label schema dict --\")\n",
    "print(model_label)"
   ]
  },
  {
   "cell_type": "markdown",
   "metadata": {},
   "source": [
    "### 4. Create Entity and Event Types\n",
    "-----\n",
    "    \n",
    "<div class=\"alert alert-info\"> 💡 <strong> Entity and Event. </strong>\n",
    "    \n",
    "The following code block will automatically create your entity and event types for you.\n",
    "\n",
    "</div>"
   ]
  },
  {
   "cell_type": "code",
   "execution_count": 25,
   "metadata": {},
   "outputs": [
    {
     "name": "stdout",
     "output_type": "stream",
     "text": [
      "-- create entity --\n",
      "{'ResponseMetadata': {'RequestId': 'bfc7dcec-fc51-428a-8a51-91f325b49770', 'HTTPStatusCode': 200, 'HTTPHeaders': {'date': 'Sun, 22 Nov 2020 04:31:11 GMT', 'content-type': 'application/x-amz-json-1.1', 'content-length': '2', 'connection': 'keep-alive', 'x-amzn-requestid': 'bfc7dcec-fc51-428a-8a51-91f325b49770'}, 'RetryAttempts': 0}}\n",
      "-- create event type --\n",
      "{'ResponseMetadata': {'RequestId': '7a4d239b-9d8d-4a37-acd2-a9726beb4fb8', 'HTTPStatusCode': 200, 'HTTPHeaders': {'date': 'Sun, 22 Nov 2020 04:31:12 GMT', 'content-type': 'application/x-amz-json-1.1', 'content-length': '2', 'connection': 'keep-alive', 'x-amzn-requestid': '7a4d239b-9d8d-4a37-acd2-a9726beb4fb8'}, 'RetryAttempts': 0}}\n"
     ]
    }
   ],
   "source": [
    "# --- no changes just run this code block ---\n",
    "response = client.put_entity_type(\n",
    "    name        = ENTITY_TYPE,\n",
    "    description = ENTITY_DESC\n",
    ")\n",
    "print(\"-- create entity --\")\n",
    "print(response)\n",
    "\n",
    "\n",
    "response = client.put_event_type (\n",
    "    name           = EVENT_TYPE,\n",
    "    eventVariables = eventVariables,\n",
    "    labels         = eventLabels,\n",
    "    entityTypes    = [ENTITY_TYPE])\n",
    "print(\"-- create event type --\")\n",
    "print(response)"
   ]
  },
  {
   "cell_type": "markdown",
   "metadata": {},
   "source": [
    "### 5. Create & Train your Model\n",
    "-----\n",
    "    \n",
    "<div class=\"alert alert-info\"> 💡 <strong> Train Model. </strong>\n",
    "\n",
    "The following section will automatically train and activate your model for you. \n",
    "\n",
    "</div>"
   ]
  },
  {
   "cell_type": "code",
   "execution_count": 26,
   "metadata": {},
   "outputs": [
    {
     "data": {
      "text/plain": [
       "'holdout_sample_fraud_nb_20201122'"
      ]
     },
     "execution_count": 26,
     "metadata": {},
     "output_type": "execute_result"
    }
   ],
   "source": [
    "MODEL_NAME"
   ]
  },
  {
   "cell_type": "code",
   "execution_count": null,
   "metadata": {},
   "outputs": [
    {
     "name": "stdout",
     "output_type": "stream",
     "text": [
      "current progress: 16.1 minutes\n"
     ]
    }
   ],
   "source": [
    "# --- no changes; just run this code block. ---\n",
    "\n",
    "# -- create our model --\n",
    "response = client.create_model(\n",
    "   description   =  MODEL_DESC,\n",
    "   eventTypeName = EVENT_TYPE,\n",
    "   modelId       = MODEL_NAME,\n",
    "   modelType   = 'ONLINE_FRAUD_INSIGHTS')\n",
    "\n",
    "print(\"-- initalize model --\")\n",
    "print(response)\n",
    "# -- initializes the model, it's now ready to train -- \n",
    "response = client.create_model_version(\n",
    "    modelId     = MODEL_NAME,\n",
    "    modelType   = 'ONLINE_FRAUD_INSIGHTS',\n",
    "    trainingDataSource = 'EXTERNAL_EVENTS',\n",
    "    trainingDataSchema = trainingDataSchema,\n",
    "    externalEventsDetail = {\n",
    "        'dataLocation'     : S3_FILE_LOC,\n",
    "        'dataAccessRoleArn': ARN_ROLE\n",
    "    }\n",
    ")\n",
    "print(\"-- model training --\")\n",
    "print(response)\n",
    "\n",
    "\n",
    "# -- model training takes time, we'll loop until it's complete  -- \n",
    "print(\"-- wait for model training to complete --\")\n",
    "stime = time.time()\n",
    "while True:\n",
    "    clear_output(wait=True)\n",
    "    response = client.get_model_version(modelId=MODEL_NAME, modelType = \"ONLINE_FRAUD_INSIGHTS\", modelVersionNumber = '1.0')\n",
    "    if response['status'] == 'TRAINING_IN_PROGRESS':\n",
    "        print(f\"current progress: {(time.time() - stime)/60:{3}.{3}} minutes\")\n",
    "        time.sleep(60)  # -- sleep for 60 seconds \n",
    "    if response['status'] != 'TRAINING_IN_PROGRESS':\n",
    "        print(\"Model status : \" +  response['status'])\n",
    "        break\n",
    "        \n",
    "etime = time.time()\n",
    "\n",
    "# -- summarize -- \n",
    "print(\"\\n --- model training complete  --\")\n",
    "print(\"Elapsed time : %s\" % (etime - stime) + \" seconds \\n\"  )\n",
    "print(response)\n"
   ]
  },
  {
   "cell_type": "code",
   "execution_count": 28,
   "metadata": {},
   "outputs": [
    {
     "name": "stdout",
     "output_type": "stream",
     "text": [
      "Model status : ACTIVE\n",
      "Elapsed time : 602.4634189605713 seconds \n",
      "\n",
      "{'modelId': 'holdout_sample_fraud_nb_20201122', 'modelType': 'ONLINE_FRAUD_INSIGHTS', 'modelVersionNumber': '1.0', 'trainingDataSource': 'EXTERNAL_EVENTS', 'trainingDataSchema': {'modelVariables': ['ip_address', 'email_address'], 'labelSchema': {'labelMapper': {'FRAUD': ['fraud'], 'LEGIT': ['legit']}}}, 'externalEventsDetail': {'dataLocation': 's3://sagemaker-us-east-2-057716757052/fraud/getstart/preproc_data/train/train.csv', 'dataAccessRoleArn': 'arn:aws:iam::057716757052:role/service-role/AmazonFraudDetector-DataAccessRole-1605937105031'}, 'status': 'ACTIVE', 'arn': 'arn:aws:frauddetector:us-east-2:057716757052:model-version/ONLINE_FRAUD_INSIGHTS/holdout_sample_fraud_nb_20201122/1.0', 'ResponseMetadata': {'RequestId': 'e1faba05-6b1c-4138-a490-b6677a96d42e', 'HTTPStatusCode': 200, 'HTTPHeaders': {'date': 'Sun, 22 Nov 2020 05:32:58 GMT', 'content-type': 'application/x-amz-json-1.1', 'content-length': '670', 'connection': 'keep-alive', 'x-amzn-requestid': 'e1faba05-6b1c-4138-a490-b6677a96d42e'}, 'RetryAttempts': 0}}\n"
     ]
    }
   ],
   "source": [
    "response = client.update_model_version_status (\n",
    "    modelId = MODEL_NAME,\n",
    "    modelType = 'ONLINE_FRAUD_INSIGHTS',\n",
    "    modelVersionNumber = '1.0',\n",
    "    status = 'ACTIVE'\n",
    ")\n",
    "print(\"-- activating model --\")\n",
    "print(response)\n",
    "\n",
    "#-- wait until model is active \n",
    "print(\"--- waiting until model status is active \")\n",
    "stime = time.time()\n",
    "while True:\n",
    "    clear_output(wait=True)\n",
    "    response = client.get_model_version(modelId=MODEL_NAME, modelType = \"ONLINE_FRAUD_INSIGHTS\", modelVersionNumber = '1.0')\n",
    "    if response['status'] != 'ACTIVE':\n",
    "        print(f\"current progress: {(time.time() - stime)/60:{3}.{3}} minutes\")\n",
    "        time.sleep(60)  # sleep for 1 minute \n",
    "    if response['status'] == 'ACTIVE':\n",
    "        print(\"Model status : \" +  response['status'])\n",
    "        break\n",
    "        \n",
    "etime = time.time()\n",
    "print(\"Elapsed time : %s\" % (etime - stime) + \" seconds \\n\"  )\n",
    "print(response)"
   ]
  },
  {
   "cell_type": "code",
   "execution_count": 29,
   "metadata": {},
   "outputs": [
    {
     "data": {
      "image/png": "[encoded data removed]",
      "text/plain": [
       "<Figure size 720x720 with 1 Axes>"
      ]
     },
     "metadata": {
      "needs_background": "light"
     },
     "output_type": "display_data"
    }
   ],
   "source": [
    "# -- model performance summary -- \n",
    "auc = client.describe_model_versions(\n",
    "    modelId= MODEL_NAME,\n",
    "    modelVersionNumber='1.0',\n",
    "    modelType='ONLINE_FRAUD_INSIGHTS',\n",
    "    maxResults=10\n",
    ")['modelVersionDetails'][0]['trainingResult']['trainingMetrics']['auc']\n",
    "\n",
    "\n",
    "df_model = pd.DataFrame(client.describe_model_versions(\n",
    "    modelId= MODEL_NAME,\n",
    "    modelVersionNumber='1.0',\n",
    "    modelType='ONLINE_FRAUD_INSIGHTS',\n",
    "    maxResults=10\n",
    ")['modelVersionDetails'][0]['trainingResult']['trainingMetrics']['metricDataPoints'])\n",
    "\n",
    "\n",
    "plt.figure(figsize=(10,10))\n",
    "plt.plot(df_model[\"fpr\"], df_model[\"tpr\"], color='darkorange',\n",
    "         lw=2, label='ROC curve (area = %0.3f)' % auc)\n",
    "plt.plot([0, 1], [0, 1], color='navy', lw=2, linestyle='--')\n",
    "plt.xlabel('False Positive Rate')\n",
    "plt.ylabel('True Positive Rate')\n",
    "plt.title( MODEL_NAME + ' ROC Chart')\n",
    "plt.legend(loc=\"lower right\",fontsize=12)\n",
    "plt.axvline(x = 0.02 ,linewidth=2, color='r')\n",
    "plt.axhline(y = 0.73 ,linewidth=2, color='r')\n",
    "plt.show()"
   ]
  },
  {
   "cell_type": "markdown",
   "metadata": {},
   "source": [
    "### 6. Create Detector, generate Rules and assemble your Detector\n",
    "\n",
    "-----\n",
    "    \n",
    "<div class=\"alert alert-info\"> 💡 <strong> Generate Rules, Create and Publish a Detector. </strong>\n",
    "    \n",
    "The following section will automatically generate a number of fraud, investigate and approve rules based on the false positive rate and score thresholds of your model. These are just example rules that you could create, it is recommended that you fine tune your rules specifically to your business use case.\n",
    "</div>"
   ]
  },
  {
   "cell_type": "code",
   "execution_count": 30,
   "metadata": {},
   "outputs": [
    {
     "name": "stdout",
     "output_type": "stream",
     "text": [
      "{'ResponseMetadata': {'RequestId': 'c3178a39-cbd9-4773-8038-ab91127f5b02', 'HTTPStatusCode': 200, 'HTTPHeaders': {'date': 'Sun, 22 Nov 2020 05:35:56 GMT', 'content-type': 'application/x-amz-json-1.1', 'content-length': '2', 'connection': 'keep-alive', 'x-amzn-requestid': 'c3178a39-cbd9-4773-8038-ab91127f5b02'}, 'RetryAttempts': 0}}\n"
     ]
    }
   ],
   "source": [
    "# -- initialize your detector -- \n",
    "response = client.put_detector(detectorId  = DETECTOR_NAME, \n",
    "                               description = DETECTOR_DESC, \n",
    "                               eventTypeName = EVENT_TYPE )\n",
    "\n",
    "print(response)"
   ]
  },
  {
   "cell_type": "code",
   "execution_count": 31,
   "metadata": {},
   "outputs": [
    {
     "name": "stdout",
     "output_type": "stream",
     "text": [
      " --- score thresholds 1% to 6% --- \n",
      "    fpr   tpr  threshold                                               rule      outcome\n",
      "0  0.01  0.48      970.0  $holdout_sample_fraud_nb_20201122_insightscore...        fraud\n",
      "1  0.02  0.69      925.0  $holdout_sample_fraud_nb_20201122_insightscore...        fraud\n",
      "2  0.03  0.73      875.0  $holdout_sample_fraud_nb_20201122_insightscore...        fraud\n",
      "3  0.04  0.79      835.0  $holdout_sample_fraud_nb_20201122_insightscore...  investigate\n",
      "4  0.05  0.80      790.0  $holdout_sample_fraud_nb_20201122_insightscore...  investigate\n",
      "5  0.06  0.81      755.0  $holdout_sample_fraud_nb_20201122_insightscore...      approve\n"
     ]
    }
   ],
   "source": [
    "# -- make rules -- \n",
    "model_stat = df_model.round(decimals=2)  \n",
    "\n",
    "m = model_stat.loc[model_stat.groupby([\"fpr\"])[\"threshold\"].idxmax()] \n",
    "\n",
    "def make_rule(x):\n",
    "    rule = \"\"\n",
    "    if x['fpr'] <= 0.05: \n",
    "        rule = \"${0}_insightscore > {1}\".format(MODEL_NAME,x['threshold'])\n",
    "    if x['fpr'] == 0.06:\n",
    "        rule = \"${0}_insightscore <= {1}\".format(MODEL_NAME,x['threshold_prev'])\n",
    "    return rule\n",
    "    \n",
    "m[\"threshold_prev\"] = m['threshold'].shift(1)\n",
    "m['rule'] = m.apply(lambda x: make_rule(x), axis=1)\n",
    "\n",
    "m['outcome'] = \"approve\"\n",
    "m.loc[m['fpr'] <= 0.03, \"outcome\"] = \"fraud\"\n",
    "m.loc[(m['fpr'] > 0.03) & (m['fpr'] <= 0.05), \"outcome\"] = \"investigate\"\n",
    "\n",
    "print (\" --- score thresholds 1% to 6% --- \")\n",
    "print(m[[\"fpr\", \"tpr\", \"threshold\", \"rule\", \"outcome\"]].loc[(m['fpr'] > 0.0 ) & (m['fpr'] <= 0.06)].reset_index(drop=True))\n"
   ]
  },
  {
   "cell_type": "code",
   "execution_count": 32,
   "metadata": {},
   "outputs": [
    {
     "name": "stdout",
     "output_type": "stream",
     "text": [
      "creating outcome variable: fraud \n",
      "creating outcome variable: investigate \n",
      "creating outcome variable: approve \n"
     ]
    }
   ],
   "source": [
    "# -- create outcomes -- \n",
    "def create_outcomes(outcomes):\n",
    "    \"\"\" create Fraud Detector Outcomes \n",
    "    \n",
    "    \"\"\"   \n",
    "    for outcome in outcomes:\n",
    "        print(\"creating outcome variable: {0} \".format(outcome))\n",
    "        response = client.put_outcome(\n",
    "                          name=outcome,\n",
    "                          description=outcome)\n",
    "\n",
    "# -- get distinct outcomes \n",
    "outcomes = m[\"outcome\"].unique().tolist()\n",
    "\n",
    "create_outcomes(outcomes)"
   ]
  },
  {
   "cell_type": "code",
   "execution_count": 33,
   "metadata": {},
   "outputs": [
    {
     "name": "stdout",
     "output_type": "stream",
     "text": [
      "creating rule: rule0_holdout_sample_fraud_nb_20201122: IF $holdout_sample_fraud_nb_20201122_insightscore > 970.0 THEN fraud\n",
      "creating rule: rule1_holdout_sample_fraud_nb_20201122: IF $holdout_sample_fraud_nb_20201122_insightscore > 925.0 THEN fraud\n",
      "creating rule: rule2_holdout_sample_fraud_nb_20201122: IF $holdout_sample_fraud_nb_20201122_insightscore > 875.0 THEN fraud\n",
      "creating rule: rule3_holdout_sample_fraud_nb_20201122: IF $holdout_sample_fraud_nb_20201122_insightscore > 835.0 THEN investigate\n",
      "creating rule: rule4_holdout_sample_fraud_nb_20201122: IF $holdout_sample_fraud_nb_20201122_insightscore > 790.0 THEN investigate\n",
      "creating rule: rule5_holdout_sample_fraud_nb_20201122: IF $holdout_sample_fraud_nb_20201122_insightscore <= 790.0 THEN approve\n"
     ]
    },
    {
     "data": {
      "text/plain": [
       "[{'ruleId': 'rule0_holdout_sample_fraud_nb_20201122',\n",
       "  'ruleVersion': '1',\n",
       "  'detectorId': 'holdout_sample_detect_20201122'},\n",
       " {'ruleId': 'rule1_holdout_sample_fraud_nb_20201122',\n",
       "  'ruleVersion': '1',\n",
       "  'detectorId': 'holdout_sample_detect_20201122'},\n",
       " {'ruleId': 'rule2_holdout_sample_fraud_nb_20201122',\n",
       "  'ruleVersion': '1',\n",
       "  'detectorId': 'holdout_sample_detect_20201122'},\n",
       " {'ruleId': 'rule3_holdout_sample_fraud_nb_20201122',\n",
       "  'ruleVersion': '1',\n",
       "  'detectorId': 'holdout_sample_detect_20201122'},\n",
       " {'ruleId': 'rule4_holdout_sample_fraud_nb_20201122',\n",
       "  'ruleVersion': '1',\n",
       "  'detectorId': 'holdout_sample_detect_20201122'},\n",
       " {'ruleId': 'rule5_holdout_sample_fraud_nb_20201122',\n",
       "  'ruleVersion': '1',\n",
       "  'detectorId': 'holdout_sample_detect_20201122'}]"
      ]
     },
     "execution_count": 33,
     "metadata": {},
     "output_type": "execute_result"
    }
   ],
   "source": [
    "rule_set = m[(m[\"fpr\"] > 0.0) & (m[\"fpr\"] <= 0.06)][[\"outcome\", \"rule\"]].to_dict('records')\n",
    "rule_list = []\n",
    "for i, rule in enumerate(rule_set):\n",
    "    ruleId = \"rule{0}_{1}\".format(i, MODEL_NAME)\n",
    "    rule_list.append({\"ruleId\": ruleId, \n",
    "                      \"ruleVersion\" : '1',\n",
    "                      \"detectorId\"  : DETECTOR_NAME\n",
    "        \n",
    "    })\n",
    "    print(\"creating rule: {0}: IF {1} THEN {2}\".format(ruleId, rule[\"rule\"], rule['outcome']))\n",
    "    try:\n",
    "        response = client.create_rule(\n",
    "            ruleId = ruleId,\n",
    "            detectorId = DETECTOR_NAME,\n",
    "            expression = rule['rule'],\n",
    "            language = 'DETECTORPL',\n",
    "            outcomes = [rule['outcome']]\n",
    "            )\n",
    "    except:\n",
    "        print(\"this rule already exists in this detector\")\n",
    "rule_list    "
   ]
  },
  {
   "cell_type": "code",
   "execution_count": 34,
   "metadata": {},
   "outputs": [
    {
     "name": "stdout",
     "output_type": "stream",
     "text": [
      "\n",
      " -- detector created -- \n",
      "{'rule': {'detectorId': 'holdout_sample_detect_20201122', 'ruleId': 'rule5_holdout_sample_fraud_nb_20201122', 'ruleVersion': '1'}, 'ResponseMetadata': {'RequestId': '37da030f-f35a-4306-b368-52edb5f986b7', 'HTTPStatusCode': 200, 'HTTPHeaders': {'date': 'Sun, 22 Nov 2020 05:36:41 GMT', 'content-type': 'application/x-amz-json-1.1', 'content-length': '124', 'connection': 'keep-alive', 'x-amzn-requestid': '37da030f-f35a-4306-b368-52edb5f986b7'}, 'RetryAttempts': 0}}\n"
     ]
    }
   ],
   "source": [
    "client.create_detector_version(\n",
    "    detectorId = DETECTOR_NAME,\n",
    "    rules = rule_list,\n",
    "    modelVersions = [{\"modelId\":MODEL_NAME, \n",
    "                      \"modelType\" : \"ONLINE_FRAUD_INSIGHTS\",\n",
    "                      \"modelVersionNumber\" : \"1.0\"}],\n",
    "    ruleExecutionMode = 'FIRST_MATCHED'\n",
    "    )\n",
    "\n",
    "print(\"\\n -- detector created -- \")\n",
    "print(response) \n"
   ]
  },
  {
   "cell_type": "code",
   "execution_count": 35,
   "metadata": {},
   "outputs": [
    {
     "name": "stdout",
     "output_type": "stream",
     "text": [
      "\n",
      " -- detector activated -- \n",
      "{'ResponseMetadata': {'RequestId': '13b5a362-51b0-428d-b7b7-e184e9b09f62', 'HTTPStatusCode': 200, 'HTTPHeaders': {'date': 'Sun, 22 Nov 2020 05:36:59 GMT', 'content-type': 'application/x-amz-json-1.1', 'content-length': '2', 'connection': 'keep-alive', 'x-amzn-requestid': '13b5a362-51b0-428d-b7b7-e184e9b09f62'}, 'RetryAttempts': 0}}\n"
     ]
    }
   ],
   "source": [
    "response = client.update_detector_version_status(\n",
    "    detectorId= DETECTOR_NAME,\n",
    "    detectorVersionId='1',\n",
    "    status='ACTIVE'\n",
    ")\n",
    "print(\"\\n -- detector activated -- \")\n",
    "print(response)"
   ]
  },
  {
   "cell_type": "markdown",
   "metadata": {},
   "source": [
    "### 7. Make Predictions \n",
    "-----\n",
    "    \n",
    "<div class=\"alert alert-info\"> 💡 <strong> Make Predictions. </strong>\n",
    "    \n",
    "The following section will apply your detector to the first 10 records in your training dataset. To apply your detector to more simply change the record_count, alternatively you can specify the full training data with the following: \n",
    "\n",
    "</div>\n"
   ]
  },
  {
   "cell_type": "markdown",
   "metadata": {},
   "source": [
    "### 테스트 데이터로 추론\n",
    "\n",
    "EVENT_TIMESTAMP를 FD 에서 요구하는 ISO-8601 Datetime format으로 변경 합니다."
   ]
  },
  {
   "cell_type": "code",
   "execution_count": 81,
   "metadata": {},
   "outputs": [
    {
     "name": "stdout",
     "output_type": "stream",
     "text": [
      "record_count:  4000\n"
     ]
    }
   ],
   "source": [
    "# Convert to ISO-8601 Datetime format, # timestampStr = '2020-07-13T23:18:21Z'\n",
    "timestampStr_list = test_df['EVENT_TIMESTAMP'].apply(lambda x: x.strftime('%Y-%m-%dT%H:%M:%SZ'))\n",
    "record_count = test_df.shape[0]\n",
    "print(\"record_count: \", record_count)\n",
    "pred_data = test_df[eventVariables].head(record_count).astype(str).to_dict(orient='records')"
   ]
  },
  {
   "cell_type": "code",
   "execution_count": 82,
   "metadata": {},
   "outputs": [],
   "source": [
    "# -- this will apply your detector to the first 10 records of your trainig dataset. -- \n",
    "predicted_dat = []\n",
    "for rec , timestampStr in zip(pred_data, timestampStr_list):\n",
    "    # print(timestampStr)\n",
    "    eventId = uuid.uuid1()\n",
    "    pred = client.get_event_prediction(detectorId=DETECTOR_NAME, \n",
    "                                       detectorVersionId='1',\n",
    "                                       eventId = str(eventId),\n",
    "                                       eventTypeName = EVENT_TYPE,\n",
    "                                       eventTimestamp = timestampStr, \n",
    "                                       entities = [{'entityType': ENTITY_TYPE, \n",
    "                                                    'entityId':str(eventId.int)}],\n",
    "                                       eventVariables=rec) \n",
    "    \n",
    "    rec[\"score\"]   = pred['modelScores'][0]['scores'][\"{0}_insightscore\".format(MODEL_NAME)]\n",
    "    rec[\"outcome\"] = pred['ruleResults'][0]['outcomes']\n",
    "    predicted_dat.append(rec)\n",
    "    "
   ]
  },
  {
   "cell_type": "markdown",
   "metadata": {},
   "source": [
    "# 추론에 대한 결과 확인 및 분석"
   ]
  },
  {
   "cell_type": "code",
   "execution_count": 83,
   "metadata": {},
   "outputs": [
    {
     "data": {
      "text/html": [
       "<div>\n",
       "<style scoped>\n",
       "    .dataframe tbody tr th:only-of-type {\n",
       "        vertical-align: middle;\n",
       "    }\n",
       "\n",
       "    .dataframe tbody tr th {\n",
       "        vertical-align: top;\n",
       "    }\n",
       "\n",
       "    .dataframe thead th {\n",
       "        text-align: right;\n",
       "    }\n",
       "</style>\n",
       "<table border=\"1\" class=\"dataframe\">\n",
       "  <thead>\n",
       "    <tr style=\"text-align: right;\">\n",
       "      <th></th>\n",
       "      <th>ip_address</th>\n",
       "      <th>email_address</th>\n",
       "      <th>score</th>\n",
       "      <th>outcome</th>\n",
       "    </tr>\n",
       "  </thead>\n",
       "  <tbody>\n",
       "    <tr>\n",
       "      <th>0</th>\n",
       "      <td>101.217.74.233</td>\n",
       "      <td>fake_tonyawhite@example.com</td>\n",
       "      <td>129.0</td>\n",
       "      <td>[approve]</td>\n",
       "    </tr>\n",
       "    <tr>\n",
       "      <th>1</th>\n",
       "      <td>15.152.71.113</td>\n",
       "      <td>fake_alexandra43@example.org</td>\n",
       "      <td>107.0</td>\n",
       "      <td>[approve]</td>\n",
       "    </tr>\n",
       "    <tr>\n",
       "      <th>2</th>\n",
       "      <td>20.202.25.188</td>\n",
       "      <td>fake_thamilton@example.org</td>\n",
       "      <td>300.0</td>\n",
       "      <td>[approve]</td>\n",
       "    </tr>\n",
       "    <tr>\n",
       "      <th>3</th>\n",
       "      <td>138.156.38.109</td>\n",
       "      <td>fake_cwright@example.net</td>\n",
       "      <td>79.0</td>\n",
       "      <td>[approve]</td>\n",
       "    </tr>\n",
       "    <tr>\n",
       "      <th>4</th>\n",
       "      <td>34.252.83.112</td>\n",
       "      <td>fake_cheyenne26@example.net</td>\n",
       "      <td>138.0</td>\n",
       "      <td>[approve]</td>\n",
       "    </tr>\n",
       "    <tr>\n",
       "      <th>...</th>\n",
       "      <td>...</td>\n",
       "      <td>...</td>\n",
       "      <td>...</td>\n",
       "      <td>...</td>\n",
       "    </tr>\n",
       "    <tr>\n",
       "      <th>3995</th>\n",
       "      <td>120.7.171.56</td>\n",
       "      <td>fake_susan29@example.org</td>\n",
       "      <td>988.0</td>\n",
       "      <td>[fraud]</td>\n",
       "    </tr>\n",
       "    <tr>\n",
       "      <th>3996</th>\n",
       "      <td>58.165.149.100</td>\n",
       "      <td>fake_lynn08@example.net</td>\n",
       "      <td>13.0</td>\n",
       "      <td>[approve]</td>\n",
       "    </tr>\n",
       "    <tr>\n",
       "      <th>3997</th>\n",
       "      <td>222.130.170.141</td>\n",
       "      <td>fake_jonathananderson@example.net</td>\n",
       "      <td>34.0</td>\n",
       "      <td>[approve]</td>\n",
       "    </tr>\n",
       "    <tr>\n",
       "      <th>3998</th>\n",
       "      <td>103.157.16.47</td>\n",
       "      <td>fake_julia74@example.com</td>\n",
       "      <td>66.0</td>\n",
       "      <td>[approve]</td>\n",
       "    </tr>\n",
       "    <tr>\n",
       "      <th>3999</th>\n",
       "      <td>13.69.126.64</td>\n",
       "      <td>fake_mariosnyder@example.org</td>\n",
       "      <td>11.0</td>\n",
       "      <td>[approve]</td>\n",
       "    </tr>\n",
       "  </tbody>\n",
       "</table>\n",
       "<p>4000 rows × 4 columns</p>\n",
       "</div>"
      ],
      "text/plain": [
       "           ip_address                      email_address  score    outcome\n",
       "0      101.217.74.233        fake_tonyawhite@example.com  129.0  [approve]\n",
       "1       15.152.71.113       fake_alexandra43@example.org  107.0  [approve]\n",
       "2       20.202.25.188         fake_thamilton@example.org  300.0  [approve]\n",
       "3      138.156.38.109           fake_cwright@example.net   79.0  [approve]\n",
       "4       34.252.83.112        fake_cheyenne26@example.net  138.0  [approve]\n",
       "...               ...                                ...    ...        ...\n",
       "3995     120.7.171.56           fake_susan29@example.org  988.0    [fraud]\n",
       "3996   58.165.149.100            fake_lynn08@example.net   13.0  [approve]\n",
       "3997  222.130.170.141  fake_jonathananderson@example.net   34.0  [approve]\n",
       "3998    103.157.16.47           fake_julia74@example.com   66.0  [approve]\n",
       "3999     13.69.126.64       fake_mariosnyder@example.org   11.0  [approve]\n",
       "\n",
       "[4000 rows x 4 columns]"
      ]
     },
     "execution_count": 83,
     "metadata": {},
     "output_type": "execute_result"
    }
   ],
   "source": [
    "# -- review your predictons -- \n",
    "predictions = pd.DataFrame(predicted_dat)\n",
    "# head(predictions)\n",
    "predictions"
   ]
  },
  {
   "cell_type": "code",
   "execution_count": 160,
   "metadata": {},
   "outputs": [
    {
     "data": {
      "text/plain": [
       "array([[<matplotlib.axes._subplots.AxesSubplot object at 0x7fb0803ae860>]],\n",
       "      dtype=object)"
      ]
     },
     "execution_count": 160,
     "metadata": {},
     "output_type": "execute_result"
    },
    {
     "data": {
      "image/png": "[encoded data removed]",
      "text/plain": [
       "<Figure size 432x288 with 1 Axes>"
      ]
     },
     "metadata": {
      "needs_background": "light"
     },
     "output_type": "display_data"
    }
   ],
   "source": [
    "# score의 분포 확인\n",
    "predictions.hist()"
   ]
  },
  {
   "cell_type": "markdown",
   "metadata": {},
   "source": [
    "추론의 결과를 확인하고 분석을 위해서 변형 합니다.\n",
    "- 추론의 결과인 \"approve\", \"fraud\", \"investigate\"의 갯수를 확인\n",
    "- 결과를 이진 분류 합니다.\n",
    "    - \"fraud\", \"investigate\" --> fraud로 간주\n",
    "    - \"approve\" --> legit 로 간주"
   ]
  },
  {
   "cell_type": "code",
   "execution_count": 153,
   "metadata": {},
   "outputs": [
    {
     "name": "stdout",
     "output_type": "stream",
     "text": [
      "# of kinds: \n",
      " approve        3616\n",
      "fraud           272\n",
      "investigate     112\n",
      "Name: outcome, dtype: int64\n",
      "# of kinds: \n",
      " legit    3616\n",
      "fraud     384\n",
      "Name: EVENT_LABEL, dtype: int64\n"
     ]
    }
   ],
   "source": [
    "import numpy as np\n",
    "\n",
    "def show_test_predictions(predictions):\n",
    "    pred = predictions.copy()\n",
    "    pred['outcome'] = pred.outcome.apply(lambda x: x[0])\n",
    "    print(\"# of kinds: \\n\", pred.outcome.value_counts())\n",
    "    pred['EVENT_LABEL'] = pred.outcome.apply(lambda x: np.where(x=='approve','legit',x))\n",
    "    pred['EVENT_LABEL'] = pred.EVENT_LABEL.apply(lambda x: np.where(x=='investigate','fraud',x))    \n",
    "    print(\"# of kinds: \\n\", pred.EVENT_LABEL.value_counts())    \n",
    "    \n",
    "    return pred\n",
    "\n",
    "pred = show_test_predictions(predictions)\n"
   ]
  },
  {
   "cell_type": "code",
   "execution_count": 154,
   "metadata": {},
   "outputs": [
    {
     "data": {
      "text/html": [
       "<div>\n",
       "<style scoped>\n",
       "    .dataframe tbody tr th:only-of-type {\n",
       "        vertical-align: middle;\n",
       "    }\n",
       "\n",
       "    .dataframe tbody tr th {\n",
       "        vertical-align: top;\n",
       "    }\n",
       "\n",
       "    .dataframe thead th {\n",
       "        text-align: right;\n",
       "    }\n",
       "</style>\n",
       "<table border=\"1\" class=\"dataframe\">\n",
       "  <thead>\n",
       "    <tr style=\"text-align: right;\">\n",
       "      <th></th>\n",
       "      <th>ip_address</th>\n",
       "      <th>email_address</th>\n",
       "      <th>score</th>\n",
       "      <th>outcome</th>\n",
       "      <th>EVENT_LABEL</th>\n",
       "    </tr>\n",
       "  </thead>\n",
       "  <tbody>\n",
       "    <tr>\n",
       "      <th>0</th>\n",
       "      <td>101.217.74.233</td>\n",
       "      <td>fake_tonyawhite@example.com</td>\n",
       "      <td>129.0</td>\n",
       "      <td>approve</td>\n",
       "      <td>legit</td>\n",
       "    </tr>\n",
       "    <tr>\n",
       "      <th>1</th>\n",
       "      <td>15.152.71.113</td>\n",
       "      <td>fake_alexandra43@example.org</td>\n",
       "      <td>107.0</td>\n",
       "      <td>approve</td>\n",
       "      <td>legit</td>\n",
       "    </tr>\n",
       "    <tr>\n",
       "      <th>2</th>\n",
       "      <td>20.202.25.188</td>\n",
       "      <td>fake_thamilton@example.org</td>\n",
       "      <td>300.0</td>\n",
       "      <td>approve</td>\n",
       "      <td>legit</td>\n",
       "    </tr>\n",
       "    <tr>\n",
       "      <th>3</th>\n",
       "      <td>138.156.38.109</td>\n",
       "      <td>fake_cwright@example.net</td>\n",
       "      <td>79.0</td>\n",
       "      <td>approve</td>\n",
       "      <td>legit</td>\n",
       "    </tr>\n",
       "    <tr>\n",
       "      <th>4</th>\n",
       "      <td>34.252.83.112</td>\n",
       "      <td>fake_cheyenne26@example.net</td>\n",
       "      <td>138.0</td>\n",
       "      <td>approve</td>\n",
       "      <td>legit</td>\n",
       "    </tr>\n",
       "    <tr>\n",
       "      <th>...</th>\n",
       "      <td>...</td>\n",
       "      <td>...</td>\n",
       "      <td>...</td>\n",
       "      <td>...</td>\n",
       "      <td>...</td>\n",
       "    </tr>\n",
       "    <tr>\n",
       "      <th>3995</th>\n",
       "      <td>120.7.171.56</td>\n",
       "      <td>fake_susan29@example.org</td>\n",
       "      <td>988.0</td>\n",
       "      <td>fraud</td>\n",
       "      <td>fraud</td>\n",
       "    </tr>\n",
       "    <tr>\n",
       "      <th>3996</th>\n",
       "      <td>58.165.149.100</td>\n",
       "      <td>fake_lynn08@example.net</td>\n",
       "      <td>13.0</td>\n",
       "      <td>approve</td>\n",
       "      <td>legit</td>\n",
       "    </tr>\n",
       "    <tr>\n",
       "      <th>3997</th>\n",
       "      <td>222.130.170.141</td>\n",
       "      <td>fake_jonathananderson@example.net</td>\n",
       "      <td>34.0</td>\n",
       "      <td>approve</td>\n",
       "      <td>legit</td>\n",
       "    </tr>\n",
       "    <tr>\n",
       "      <th>3998</th>\n",
       "      <td>103.157.16.47</td>\n",
       "      <td>fake_julia74@example.com</td>\n",
       "      <td>66.0</td>\n",
       "      <td>approve</td>\n",
       "      <td>legit</td>\n",
       "    </tr>\n",
       "    <tr>\n",
       "      <th>3999</th>\n",
       "      <td>13.69.126.64</td>\n",
       "      <td>fake_mariosnyder@example.org</td>\n",
       "      <td>11.0</td>\n",
       "      <td>approve</td>\n",
       "      <td>legit</td>\n",
       "    </tr>\n",
       "  </tbody>\n",
       "</table>\n",
       "<p>4000 rows × 5 columns</p>\n",
       "</div>"
      ],
      "text/plain": [
       "           ip_address                      email_address  score  outcome EVENT_LABEL\n",
       "0      101.217.74.233        fake_tonyawhite@example.com  129.0  approve       legit\n",
       "1       15.152.71.113       fake_alexandra43@example.org  107.0  approve       legit\n",
       "2       20.202.25.188         fake_thamilton@example.org  300.0  approve       legit\n",
       "3      138.156.38.109           fake_cwright@example.net   79.0  approve       legit\n",
       "4       34.252.83.112        fake_cheyenne26@example.net  138.0  approve       legit\n",
       "...               ...                                ...    ...      ...         ...\n",
       "3995     120.7.171.56           fake_susan29@example.org  988.0    fraud       fraud\n",
       "3996   58.165.149.100            fake_lynn08@example.net   13.0  approve       legit\n",
       "3997  222.130.170.141  fake_jonathananderson@example.net   34.0  approve       legit\n",
       "3998    103.157.16.47           fake_julia74@example.com   66.0  approve       legit\n",
       "3999     13.69.126.64       fake_mariosnyder@example.org   11.0  approve       legit\n",
       "\n",
       "[4000 rows x 5 columns]"
      ]
     },
     "execution_count": 154,
     "metadata": {},
     "output_type": "execute_result"
    }
   ],
   "source": [
    "pred"
   ]
  },
  {
   "cell_type": "code",
   "execution_count": 186,
   "metadata": {},
   "outputs": [],
   "source": [
    "from importlib import reload\n",
    "p_utils = reload(p_utils)\n",
    "\n",
    "import p_utils "
   ]
  },
  {
   "cell_type": "markdown",
   "metadata": {},
   "source": [
    "## 평가 지표 생성\n",
    "- ROC-AUC \n",
    "    - 참값과 추론의 score (1000으로 나누어서 예측 확률값으로 변경) 를 사용하여 계산\n",
    "        - **훈련 데이터시에 0.96 이었고, 아래 테스트 테이터는 0.93 으로 비슷한 수치를 기록함\n",
    "- F1, Precsion, Recall, Accuracy를 확인 \n",
    "- Confusion Matrixa 확인"
   ]
  },
  {
   "cell_type": "code",
   "execution_count": 188,
   "metadata": {},
   "outputs": [
    {
     "name": "stdout",
     "output_type": "stream",
     "text": [
      " ### ROC_AUC SCORE ### \n",
      "0.9368725732156419\n",
      "\n",
      " ### F1 SCORE ### \n",
      "              precision    recall  f1-score   support\n",
      "\n",
      "       fraud       0.78      0.40      0.53       384\n",
      "       legit       0.94      0.99      0.96      3616\n",
      "\n",
      "    accuracy                           0.93      4000\n",
      "   macro avg       0.86      0.69      0.74      4000\n",
      "weighted avg       0.92      0.93      0.92      4000\n",
      "\n",
      "[[ 153   44]\n",
      " [ 231 3572]]\n"
     ]
    },
    {
     "data": {
      "text/plain": [
       "<Figure size 432x288 with 0 Axes>"
      ]
     },
     "metadata": {},
     "output_type": "display_data"
    },
    {
     "data": {
      "image/png": "[encoded data removed]",
      "text/plain": [
       "<Figure size 720x360 with 2 Axes>"
      ]
     },
     "metadata": {
      "image/png": {
       "height": 351,
       "width": 418
      },
      "needs_background": "light"
     },
     "output_type": "display_data"
    },
    {
     "data": {
      "text/html": [
       "<div>\n",
       "<style scoped>\n",
       "    .dataframe tbody tr th:only-of-type {\n",
       "        vertical-align: middle;\n",
       "    }\n",
       "\n",
       "    .dataframe tbody tr th {\n",
       "        vertical-align: top;\n",
       "    }\n",
       "\n",
       "    .dataframe thead th {\n",
       "        text-align: right;\n",
       "    }\n",
       "</style>\n",
       "<table border=\"1\" class=\"dataframe\">\n",
       "  <thead>\n",
       "    <tr style=\"text-align: right;\">\n",
       "      <th></th>\n",
       "      <th>ip_address</th>\n",
       "      <th>email_address</th>\n",
       "      <th>EVENT_TIMESTAMP</th>\n",
       "      <th>EVENT_LABEL</th>\n",
       "      <th>label</th>\n",
       "    </tr>\n",
       "  </thead>\n",
       "  <tbody>\n",
       "    <tr>\n",
       "      <th>0</th>\n",
       "      <td>101.217.74.233</td>\n",
       "      <td>fake_tonyawhite@example.com</td>\n",
       "      <td>2020-05-04 07:48:00</td>\n",
       "      <td>legit</td>\n",
       "      <td>0</td>\n",
       "    </tr>\n",
       "    <tr>\n",
       "      <th>1</th>\n",
       "      <td>15.152.71.113</td>\n",
       "      <td>fake_alexandra43@example.org</td>\n",
       "      <td>2020-05-04 08:03:00</td>\n",
       "      <td>legit</td>\n",
       "      <td>0</td>\n",
       "    </tr>\n",
       "    <tr>\n",
       "      <th>2</th>\n",
       "      <td>20.202.25.188</td>\n",
       "      <td>fake_thamilton@example.org</td>\n",
       "      <td>2020-05-04 08:10:00</td>\n",
       "      <td>legit</td>\n",
       "      <td>0</td>\n",
       "    </tr>\n",
       "    <tr>\n",
       "      <th>3</th>\n",
       "      <td>138.156.38.109</td>\n",
       "      <td>fake_cwright@example.net</td>\n",
       "      <td>2020-05-04 08:18:00</td>\n",
       "      <td>legit</td>\n",
       "      <td>0</td>\n",
       "    </tr>\n",
       "    <tr>\n",
       "      <th>4</th>\n",
       "      <td>34.252.83.112</td>\n",
       "      <td>fake_cheyenne26@example.net</td>\n",
       "      <td>2020-05-04 08:45:00</td>\n",
       "      <td>legit</td>\n",
       "      <td>0</td>\n",
       "    </tr>\n",
       "    <tr>\n",
       "      <th>...</th>\n",
       "      <td>...</td>\n",
       "      <td>...</td>\n",
       "      <td>...</td>\n",
       "      <td>...</td>\n",
       "      <td>...</td>\n",
       "    </tr>\n",
       "    <tr>\n",
       "      <th>3995</th>\n",
       "      <td>120.7.171.56</td>\n",
       "      <td>fake_susan29@example.org</td>\n",
       "      <td>2020-07-15 10:24:00</td>\n",
       "      <td>fraud</td>\n",
       "      <td>1</td>\n",
       "    </tr>\n",
       "    <tr>\n",
       "      <th>3996</th>\n",
       "      <td>58.165.149.100</td>\n",
       "      <td>fake_lynn08@example.net</td>\n",
       "      <td>2020-07-15 10:41:00</td>\n",
       "      <td>legit</td>\n",
       "      <td>0</td>\n",
       "    </tr>\n",
       "    <tr>\n",
       "      <th>3997</th>\n",
       "      <td>222.130.170.141</td>\n",
       "      <td>fake_jonathananderson@example.net</td>\n",
       "      <td>2020-07-15 11:26:00</td>\n",
       "      <td>legit</td>\n",
       "      <td>0</td>\n",
       "    </tr>\n",
       "    <tr>\n",
       "      <th>3998</th>\n",
       "      <td>103.157.16.47</td>\n",
       "      <td>fake_julia74@example.com</td>\n",
       "      <td>2020-07-15 11:33:00</td>\n",
       "      <td>legit</td>\n",
       "      <td>0</td>\n",
       "    </tr>\n",
       "    <tr>\n",
       "      <th>3999</th>\n",
       "      <td>13.69.126.64</td>\n",
       "      <td>fake_mariosnyder@example.org</td>\n",
       "      <td>2020-07-15 11:49:00</td>\n",
       "      <td>legit</td>\n",
       "      <td>0</td>\n",
       "    </tr>\n",
       "  </tbody>\n",
       "</table>\n",
       "<p>4000 rows × 5 columns</p>\n",
       "</div>"
      ],
      "text/plain": [
       "           ip_address                      email_address     EVENT_TIMESTAMP EVENT_LABEL  label\n",
       "0      101.217.74.233        fake_tonyawhite@example.com 2020-05-04 07:48:00       legit      0\n",
       "1       15.152.71.113       fake_alexandra43@example.org 2020-05-04 08:03:00       legit      0\n",
       "2       20.202.25.188         fake_thamilton@example.org 2020-05-04 08:10:00       legit      0\n",
       "3      138.156.38.109           fake_cwright@example.net 2020-05-04 08:18:00       legit      0\n",
       "4       34.252.83.112        fake_cheyenne26@example.net 2020-05-04 08:45:00       legit      0\n",
       "...               ...                                ...                 ...         ...    ...\n",
       "3995     120.7.171.56           fake_susan29@example.org 2020-07-15 10:24:00       fraud      1\n",
       "3996   58.165.149.100            fake_lynn08@example.net 2020-07-15 10:41:00       legit      0\n",
       "3997  222.130.170.141  fake_jonathananderson@example.net 2020-07-15 11:26:00       legit      0\n",
       "3998    103.157.16.47           fake_julia74@example.com 2020-07-15 11:33:00       legit      0\n",
       "3999     13.69.126.64       fake_mariosnyder@example.org 2020-07-15 11:49:00       legit      0\n",
       "\n",
       "[4000 rows x 5 columns]"
      ]
     },
     "execution_count": 188,
     "metadata": {},
     "output_type": "execute_result"
    }
   ],
   "source": [
    "from sklearn.metrics import classification_report, roc_auc_score\n",
    "from IPython.display import display as dp\n",
    "from sklearn.metrics import confusion_matrix\n",
    "import matplotlib.pyplot as plt\n",
    "%matplotlib inline\n",
    "%config InlineBackend.figure_format='retina'\n",
    "\n",
    "\n",
    "def compute_f1(pred, test_df):\n",
    "    test = test_df.copy()\n",
    "    test= test.reset_index(drop=True)\n",
    "    test['label'] = test.EVENT_LABEL.apply(lambda x: np.where(x == 'fraud', 1,0))\n",
    "    print(\" ### ROC_AUC SCORE ### \")\n",
    "    print(roc_auc_score(test.label, pred.score / 1000))\n",
    "    print(\"\\n ### F1 SCORE ### \")    \n",
    "    print(classification_report(pred.EVENT_LABEL, test.EVENT_LABEL))\n",
    "    \n",
    "    cm = confusion_matrix(y_true= test.EVENT_LABEL, y_pred= pred.EVENT_LABEL)\n",
    "\n",
    "    plt.figure()\n",
    "    fig, ax = plt.subplots(figsize=(10,5))\n",
    "    p_utils.plot_conf_mat(cm, \n",
    "                  classes=['fraud','legit'], \n",
    "                  title='Confusion Matrix')\n",
    "    plt.show()    \n",
    "    return test\n",
    "\n",
    "\n",
    "compute_f1(pred, test_df)"
   ]
  },
  {
   "cell_type": "code",
   "execution_count": null,
   "metadata": {},
   "outputs": [],
   "source": []
  }
 ],
 "metadata": {
  "kernelspec": {
   "display_name": "conda_amazonei_mxnet_p36",
   "language": "python",
   "name": "conda_amazonei_mxnet_p36"
  },
  "language_info": {
   "codemirror_mode": {
    "name": "ipython",
    "version": 3
   },
   "file_extension": ".py",
   "mimetype": "text/x-python",
   "name": "python",
   "nbconvert_exporter": "python",
   "pygments_lexer": "ipython3",
   "version": "3.6.10"
  }
 },
 "nbformat": 4,
 "nbformat_minor": 4
}
