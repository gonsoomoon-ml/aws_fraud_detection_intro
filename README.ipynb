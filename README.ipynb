{
 "cells": [
  {
   "cell_type": "markdown",
   "metadata": {},
   "source": [
    "# AWS Fraud Detection, FD (사기 감지) 소개\n",
    "\n",
    "## FD 워크 플로우 요약\n",
    "- EVENT 정의\n",
    "- MODEL VERION 훈련 (모델 학습)\n",
    "- DETECTOR 생성 (엔드 포인트 생성)\n",
    "    - 모델 버전과 decision rules를 사용하여 생성 \n",
    "- 추론 \n",
    "    - 추촌 함수 통해 예측치 얻음\n",
    "    \n",
    "## 노트북\n",
    "- getstart/1.1.Holdout-Fraud_Detector_End_to_End.ipynb\n",
    "    - 훈련/검증 데이터를 나누어서 훈련 및 검증 함.\n",
    "\n",
    "## 데이터 준비\n",
    "\n",
    "####  데이터 수집\n",
    "- 10k 이상의 데이터\n",
    "- 최근 3-6개월 동안 최소 6주 이상의 과거 데이터\n",
    "- 최근 데이타로 검증 데이터 셋을 생성한다.\n",
    "\n",
    "#### 데이터 & 레이블 Maturity\n",
    "- non-fraud, fraud 가 충분히 데이터가 생성되어야 한다. (약 30-45 일 걸릴 수 있음)\n",
    "- 적어도 최근 30일 이상의 데이터가 필요함ㄹ\n",
    "\n",
    "#### Sampling\n",
    "- 내부에서 진행. 작업할 필요 없음\n",
    "\n",
    "#### Fraud Labels\n",
    "- 최소 500개 이상의 Fraud 관측값이 필요함.\n",
    "\n",
    "#### Custom Fields\n",
    "- event timestamp, ip address, email address, fraud label 이 의무적으로 준비를 해야 함.. 가타 커스텀 필드도 넣으면 좋음\n",
    "\n",
    "\n",
    "## 데이터 프로파일링\n",
    "![tran_data_profile](getstart/img/tran_data_profile.png)\n",
    "\n",
    "## 레퍼런스\n",
    "- An Introduction to the Amazon Fraud Detector API\n",
    "    - https://github.com/aws-samples/aws-fraud-detector-samples/blob/master/Fraud_Detector_End_to_End.ipynb\n",
    "- Roc Curve\n",
    "    - https://towardsdatascience.com/understanding-auc-roc-curve-68b2303cc9c5\n",
    "\n"
   ]
  },
  {
   "cell_type": "code",
   "execution_count": null,
   "metadata": {},
   "outputs": [],
   "source": []
  }
 ],
 "metadata": {
  "kernelspec": {
   "display_name": "conda_python3",
   "language": "python",
   "name": "conda_python3"
  },
  "language_info": {
   "codemirror_mode": {
    "name": "ipython",
    "version": 3
   },
   "file_extension": ".py",
   "mimetype": "text/x-python",
   "name": "python",
   "nbconvert_exporter": "python",
   "pygments_lexer": "ipython3",
   "version": "3.6.10"
  }
 },
 "nbformat": 4,
 "nbformat_minor": 4
}
